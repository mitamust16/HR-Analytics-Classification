{
 "cells": [
  {
   "cell_type": "markdown",
   "metadata": {
    "id": "56Bx4kIH5dCP"
   },
   "source": [
    "# HR Analytics by MoboData Data Science Group\n",
    "#### For Rakamin Academy Final Project"
   ]
  },
  {
   "cell_type": "markdown",
   "metadata": {
    "id": "DpO-NHpI5dCS"
   },
   "source": [
    "## Import Library"
   ]
  },
  {
   "cell_type": "code",
   "execution_count": 1,
   "metadata": {
    "colab": {
     "base_uri": "https://localhost:8080/"
    },
    "executionInfo": {
     "elapsed": 3734,
     "status": "ok",
     "timestamp": 1610827380595,
     "user": {
      "displayName": "Mita Mustahidah",
      "photoUrl": "https://lh3.googleusercontent.com/a-/AOh14GiaW67jXSMMZy6sNfcTUzlz7i2j0mnzzDf36isg4Q=s64",
      "userId": "14664998176147532797"
     },
     "user_tz": -420
    },
    "id": "IITo1lSE5dCT",
    "outputId": "d4e87847-a776-4481-8dec-2cefabe05861"
   },
   "outputs": [
    {
     "name": "stderr",
     "output_type": "stream",
     "text": [
      "/usr/local/lib/python3.6/dist-packages/sklearn/externals/six.py:31: FutureWarning: The module is deprecated in version 0.21 and will be removed in version 0.23 since we've dropped support for Python 2.7. Please rely on the official version of six (https://pypi.org/project/six/).\n",
      "  \"(https://pypi.org/project/six/).\", FutureWarning)\n",
      "/usr/local/lib/python3.6/dist-packages/sklearn/utils/deprecation.py:144: FutureWarning: The sklearn.neighbors.base module is  deprecated in version 0.22 and will be removed in version 0.24. The corresponding classes / functions should instead be imported from sklearn.neighbors. Anything that cannot be imported from sklearn.neighbors is now part of the private API.\n",
      "  warnings.warn(message, FutureWarning)\n"
     ]
    }
   ],
   "source": [
    "# lets import all the required libraries\n",
    "# for mathematical operations\n",
    "import numpy as np\n",
    "# for dataframe operations\n",
    "import pandas as pd\n",
    "\n",
    "# for data visualizations\n",
    "import seaborn as sns\n",
    "import matplotlib.pyplot as plt\n",
    "\n",
    "# setting up the size of the figures\n",
    "plt.rcParams['figure.figsize'] = (16, 5)\n",
    "# setting up the style of the plot\n",
    "plt.style.use('fivethirtyeight')\n",
    "\n",
    "# for interactivity\n",
    "import ipywidgets as widgets\n",
    "from ipywidgets import interact\n",
    "from ipywidgets import interact_manual\n",
    "\n",
    "# for machine learning\n",
    "import sklearn\n",
    "import imblearn"
   ]
  },
  {
   "cell_type": "markdown",
   "metadata": {
    "id": "HblgClY45dCU"
   },
   "source": [
    "## Load Dataset"
   ]
  },
  {
   "cell_type": "code",
   "execution_count": null,
   "metadata": {
    "colab": {
     "base_uri": "https://localhost:8080/"
    },
    "collapsed": true,
    "id": "92QXxd6z5dCU",
    "jupyter": {
     "outputs_hidden": true,
     "source_hidden": true
    },
    "outputId": "b6c3d4cc-5fe8-4dd4-9817-15513b4817ef"
   },
   "outputs": [
    {
     "name": "stdout",
     "output_type": "stream",
     "text": [
      "Go to this URL in a browser: https://accounts.google.com/o/oauth2/auth?client_id=947318989803-6bn6qk8qdgf4n4g3pfee6491hc0brc4i.apps.googleusercontent.com&redirect_uri=urn%3aietf%3awg%3aoauth%3a2.0%3aoob&scope=email%20https%3a%2f%2fwww.googleapis.com%2fauth%2fdocs.test%20https%3a%2f%2fwww.googleapis.com%2fauth%2fdrive%20https%3a%2f%2fwww.googleapis.com%2fauth%2fdrive.photos.readonly%20https%3a%2f%2fwww.googleapis.com%2fauth%2fpeopleapi.readonly%20https%3a%2f%2fwww.googleapis.com%2fauth%2fdrive.activity.readonly&response_type=code\n",
      "\n",
      "Enter your authorization code:\n",
      "4/1AY0e-g47P5JFPgeHGXfL4OvzzVArJ0buM6DNYB66crenDnVle7ZJqCAdRtc\n"
     ]
    }
   ],
   "source": [
    "from google.colab import drive\n",
    "drive.mount('/content/gdrive')\n",
    "df = pd.read_csv('/content/gdrive/My Drive/train_LZdllcl.csv')\n",
    "df2 = pd.read_csv('/content/gdrive/My Drive/test_2umaH9m.csv')\n",
    "display(df.head())\n",
    "display(df2.head())"
   ]
  },
  {
   "cell_type": "code",
   "execution_count": null,
   "metadata": {
    "id": "KZS3eeUDykWr",
    "outputId": "fe2d58e4-c6ef-431a-94b2-64a95cc386bb"
   },
   "outputs": [
    {
     "data": {
      "text/html": [
       "<div>\n",
       "<style scoped>\n",
       "    .dataframe tbody tr th:only-of-type {\n",
       "        vertical-align: middle;\n",
       "    }\n",
       "\n",
       "    .dataframe tbody tr th {\n",
       "        vertical-align: top;\n",
       "    }\n",
       "\n",
       "    .dataframe thead th {\n",
       "        text-align: right;\n",
       "    }\n",
       "</style>\n",
       "<table border=\"1\" class=\"dataframe\">\n",
       "  <thead>\n",
       "    <tr style=\"text-align: right;\">\n",
       "      <th></th>\n",
       "      <th>employee_id</th>\n",
       "      <th>department</th>\n",
       "      <th>region</th>\n",
       "      <th>education</th>\n",
       "      <th>gender</th>\n",
       "      <th>recruitment_channel</th>\n",
       "      <th>no_of_trainings</th>\n",
       "      <th>age</th>\n",
       "      <th>previous_year_rating</th>\n",
       "      <th>length_of_service</th>\n",
       "      <th>KPIs_met &gt;80%</th>\n",
       "      <th>awards_won?</th>\n",
       "      <th>avg_training_score</th>\n",
       "      <th>is_promoted</th>\n",
       "    </tr>\n",
       "  </thead>\n",
       "  <tbody>\n",
       "    <tr>\n",
       "      <th>0</th>\n",
       "      <td>65438</td>\n",
       "      <td>Sales &amp; Marketing</td>\n",
       "      <td>region_7</td>\n",
       "      <td>Master's &amp; above</td>\n",
       "      <td>f</td>\n",
       "      <td>sourcing</td>\n",
       "      <td>1</td>\n",
       "      <td>35</td>\n",
       "      <td>5.0</td>\n",
       "      <td>8</td>\n",
       "      <td>1</td>\n",
       "      <td>0</td>\n",
       "      <td>49</td>\n",
       "      <td>0</td>\n",
       "    </tr>\n",
       "    <tr>\n",
       "      <th>1</th>\n",
       "      <td>65141</td>\n",
       "      <td>Operations</td>\n",
       "      <td>region_22</td>\n",
       "      <td>Bachelor's</td>\n",
       "      <td>m</td>\n",
       "      <td>other</td>\n",
       "      <td>1</td>\n",
       "      <td>30</td>\n",
       "      <td>5.0</td>\n",
       "      <td>4</td>\n",
       "      <td>0</td>\n",
       "      <td>0</td>\n",
       "      <td>60</td>\n",
       "      <td>0</td>\n",
       "    </tr>\n",
       "    <tr>\n",
       "      <th>2</th>\n",
       "      <td>7513</td>\n",
       "      <td>Sales &amp; Marketing</td>\n",
       "      <td>region_19</td>\n",
       "      <td>Bachelor's</td>\n",
       "      <td>m</td>\n",
       "      <td>sourcing</td>\n",
       "      <td>1</td>\n",
       "      <td>34</td>\n",
       "      <td>3.0</td>\n",
       "      <td>7</td>\n",
       "      <td>0</td>\n",
       "      <td>0</td>\n",
       "      <td>50</td>\n",
       "      <td>0</td>\n",
       "    </tr>\n",
       "    <tr>\n",
       "      <th>3</th>\n",
       "      <td>2542</td>\n",
       "      <td>Sales &amp; Marketing</td>\n",
       "      <td>region_23</td>\n",
       "      <td>Bachelor's</td>\n",
       "      <td>m</td>\n",
       "      <td>other</td>\n",
       "      <td>2</td>\n",
       "      <td>39</td>\n",
       "      <td>1.0</td>\n",
       "      <td>10</td>\n",
       "      <td>0</td>\n",
       "      <td>0</td>\n",
       "      <td>50</td>\n",
       "      <td>0</td>\n",
       "    </tr>\n",
       "    <tr>\n",
       "      <th>4</th>\n",
       "      <td>48945</td>\n",
       "      <td>Technology</td>\n",
       "      <td>region_26</td>\n",
       "      <td>Bachelor's</td>\n",
       "      <td>m</td>\n",
       "      <td>other</td>\n",
       "      <td>1</td>\n",
       "      <td>45</td>\n",
       "      <td>3.0</td>\n",
       "      <td>2</td>\n",
       "      <td>0</td>\n",
       "      <td>0</td>\n",
       "      <td>73</td>\n",
       "      <td>0</td>\n",
       "    </tr>\n",
       "  </tbody>\n",
       "</table>\n",
       "</div>"
      ],
      "text/plain": [
       "   employee_id         department     region         education gender  \\\n",
       "0        65438  Sales & Marketing   region_7  Master's & above      f   \n",
       "1        65141         Operations  region_22        Bachelor's      m   \n",
       "2         7513  Sales & Marketing  region_19        Bachelor's      m   \n",
       "3         2542  Sales & Marketing  region_23        Bachelor's      m   \n",
       "4        48945         Technology  region_26        Bachelor's      m   \n",
       "\n",
       "  recruitment_channel  no_of_trainings  age  previous_year_rating  \\\n",
       "0            sourcing                1   35                   5.0   \n",
       "1               other                1   30                   5.0   \n",
       "2            sourcing                1   34                   3.0   \n",
       "3               other                2   39                   1.0   \n",
       "4               other                1   45                   3.0   \n",
       "\n",
       "   length_of_service  KPIs_met >80%  awards_won?  avg_training_score  \\\n",
       "0                  8              1            0                  49   \n",
       "1                  4              0            0                  60   \n",
       "2                  7              0            0                  50   \n",
       "3                 10              0            0                  50   \n",
       "4                  2              0            0                  73   \n",
       "\n",
       "   is_promoted  \n",
       "0            0  \n",
       "1            0  \n",
       "2            0  \n",
       "3            0  \n",
       "4            0  "
      ]
     },
     "metadata": {
      "tags": []
     },
     "output_type": "display_data"
    },
    {
     "data": {
      "text/html": [
       "<div>\n",
       "<style scoped>\n",
       "    .dataframe tbody tr th:only-of-type {\n",
       "        vertical-align: middle;\n",
       "    }\n",
       "\n",
       "    .dataframe tbody tr th {\n",
       "        vertical-align: top;\n",
       "    }\n",
       "\n",
       "    .dataframe thead th {\n",
       "        text-align: right;\n",
       "    }\n",
       "</style>\n",
       "<table border=\"1\" class=\"dataframe\">\n",
       "  <thead>\n",
       "    <tr style=\"text-align: right;\">\n",
       "      <th></th>\n",
       "      <th>employee_id</th>\n",
       "      <th>department</th>\n",
       "      <th>region</th>\n",
       "      <th>education</th>\n",
       "      <th>gender</th>\n",
       "      <th>recruitment_channel</th>\n",
       "      <th>no_of_trainings</th>\n",
       "      <th>age</th>\n",
       "      <th>previous_year_rating</th>\n",
       "      <th>length_of_service</th>\n",
       "      <th>KPIs_met &gt;80%</th>\n",
       "      <th>awards_won?</th>\n",
       "      <th>avg_training_score</th>\n",
       "    </tr>\n",
       "  </thead>\n",
       "  <tbody>\n",
       "    <tr>\n",
       "      <th>0</th>\n",
       "      <td>8724</td>\n",
       "      <td>Technology</td>\n",
       "      <td>region_26</td>\n",
       "      <td>Bachelor's</td>\n",
       "      <td>m</td>\n",
       "      <td>sourcing</td>\n",
       "      <td>1</td>\n",
       "      <td>24</td>\n",
       "      <td>NaN</td>\n",
       "      <td>1</td>\n",
       "      <td>1</td>\n",
       "      <td>0</td>\n",
       "      <td>77</td>\n",
       "    </tr>\n",
       "    <tr>\n",
       "      <th>1</th>\n",
       "      <td>74430</td>\n",
       "      <td>HR</td>\n",
       "      <td>region_4</td>\n",
       "      <td>Bachelor's</td>\n",
       "      <td>f</td>\n",
       "      <td>other</td>\n",
       "      <td>1</td>\n",
       "      <td>31</td>\n",
       "      <td>3.0</td>\n",
       "      <td>5</td>\n",
       "      <td>0</td>\n",
       "      <td>0</td>\n",
       "      <td>51</td>\n",
       "    </tr>\n",
       "    <tr>\n",
       "      <th>2</th>\n",
       "      <td>72255</td>\n",
       "      <td>Sales &amp; Marketing</td>\n",
       "      <td>region_13</td>\n",
       "      <td>Bachelor's</td>\n",
       "      <td>m</td>\n",
       "      <td>other</td>\n",
       "      <td>1</td>\n",
       "      <td>31</td>\n",
       "      <td>1.0</td>\n",
       "      <td>4</td>\n",
       "      <td>0</td>\n",
       "      <td>0</td>\n",
       "      <td>47</td>\n",
       "    </tr>\n",
       "    <tr>\n",
       "      <th>3</th>\n",
       "      <td>38562</td>\n",
       "      <td>Procurement</td>\n",
       "      <td>region_2</td>\n",
       "      <td>Bachelor's</td>\n",
       "      <td>f</td>\n",
       "      <td>other</td>\n",
       "      <td>3</td>\n",
       "      <td>31</td>\n",
       "      <td>2.0</td>\n",
       "      <td>9</td>\n",
       "      <td>0</td>\n",
       "      <td>0</td>\n",
       "      <td>65</td>\n",
       "    </tr>\n",
       "    <tr>\n",
       "      <th>4</th>\n",
       "      <td>64486</td>\n",
       "      <td>Finance</td>\n",
       "      <td>region_29</td>\n",
       "      <td>Bachelor's</td>\n",
       "      <td>m</td>\n",
       "      <td>sourcing</td>\n",
       "      <td>1</td>\n",
       "      <td>30</td>\n",
       "      <td>4.0</td>\n",
       "      <td>7</td>\n",
       "      <td>0</td>\n",
       "      <td>0</td>\n",
       "      <td>61</td>\n",
       "    </tr>\n",
       "  </tbody>\n",
       "</table>\n",
       "</div>"
      ],
      "text/plain": [
       "   employee_id         department     region   education gender  \\\n",
       "0         8724         Technology  region_26  Bachelor's      m   \n",
       "1        74430                 HR   region_4  Bachelor's      f   \n",
       "2        72255  Sales & Marketing  region_13  Bachelor's      m   \n",
       "3        38562        Procurement   region_2  Bachelor's      f   \n",
       "4        64486            Finance  region_29  Bachelor's      m   \n",
       "\n",
       "  recruitment_channel  no_of_trainings  age  previous_year_rating  \\\n",
       "0            sourcing                1   24                   NaN   \n",
       "1               other                1   31                   3.0   \n",
       "2               other                1   31                   1.0   \n",
       "3               other                3   31                   2.0   \n",
       "4            sourcing                1   30                   4.0   \n",
       "\n",
       "   length_of_service  KPIs_met >80%  awards_won?  avg_training_score  \n",
       "0                  1              1            0                  77  \n",
       "1                  5              0            0                  51  \n",
       "2                  4              0            0                  47  \n",
       "3                  9              0            0                  65  \n",
       "4                  7              0            0                  61  "
      ]
     },
     "metadata": {
      "tags": []
     },
     "output_type": "display_data"
    }
   ],
   "source": [
    "df = pd.read_csv('train_LZdllcl.csv')\n",
    "df2 = pd.read_csv('test_2umaH9m.csv')\n",
    "display(df.head())\n",
    "display(df2.head())"
   ]
  },
  {
   "cell_type": "markdown",
   "metadata": {
    "id": "z-cKGPzL5dCV"
   },
   "source": [
    "Tidak ada kolom `is_promoted` pada data testing, sehingga data testing tidak akan digunakan sebagai testing, namun testing akan didapat dengan cara split data training.\n",
    "Karena itu, hanya dataset df1 saja yang dipakai dalam proses machine learning ini."
   ]
  },
  {
   "cell_type": "markdown",
   "metadata": {
    "id": "bF2VnoEo5dCV"
   },
   "source": [
    "# Preprocessing Data"
   ]
  },
  {
   "cell_type": "markdown",
   "metadata": {
    "id": "RQFJlQ6r5dCW"
   },
   "source": [
    "## Missing Data"
   ]
  },
  {
   "cell_type": "markdown",
   "metadata": {
    "id": "zRdKfwe25dCW"
   },
   "source": [
    "Mencari data yang hilang (jika ada) dan memberikan solusi terhadap data tersebut"
   ]
  },
  {
   "cell_type": "code",
   "execution_count": null,
   "metadata": {
    "colab": {
     "base_uri": "https://localhost:8080/",
     "height": 675
    },
    "id": "3R55bV9O5dCW",
    "outputId": "6cdc51bc-c749-4e9c-c039-e6fe75a867b5"
   },
   "outputs": [
    {
     "name": "stdout",
     "output_type": "stream",
     "text": [
      "<class 'pandas.core.frame.DataFrame'>\n",
      "RangeIndex: 54808 entries, 0 to 54807\n",
      "Data columns (total 14 columns):\n",
      " #   Column                Non-Null Count  Dtype  \n",
      "---  ------                --------------  -----  \n",
      " 0   employee_id           54808 non-null  int64  \n",
      " 1   department            54808 non-null  object \n",
      " 2   region                54808 non-null  object \n",
      " 3   education             52399 non-null  object \n",
      " 4   gender                54808 non-null  object \n",
      " 5   recruitment_channel   54808 non-null  object \n",
      " 6   no_of_trainings       54808 non-null  int64  \n",
      " 7   age                   54808 non-null  int64  \n",
      " 8   previous_year_rating  50684 non-null  float64\n",
      " 9   length_of_service     54808 non-null  int64  \n",
      " 10  KPIs_met >80%         54808 non-null  int64  \n",
      " 11  awards_won?           54808 non-null  int64  \n",
      " 12  avg_training_score    54808 non-null  int64  \n",
      " 13  is_promoted           54808 non-null  int64  \n",
      "dtypes: float64(1), int64(8), object(5)\n",
      "memory usage: 5.9+ MB\n"
     ]
    },
    {
     "data": {
      "text/plain": [
       "None"
      ]
     },
     "metadata": {
      "tags": []
     },
     "output_type": "display_data"
    },
    {
     "data": {
      "text/plain": [
       "employee_id                0\n",
       "department                 0\n",
       "region                     0\n",
       "education               2409\n",
       "gender                     0\n",
       "recruitment_channel        0\n",
       "no_of_trainings            0\n",
       "age                        0\n",
       "previous_year_rating    4124\n",
       "length_of_service          0\n",
       "KPIs_met >80%              0\n",
       "awards_won?                0\n",
       "avg_training_score         0\n",
       "is_promoted                0\n",
       "dtype: int64"
      ]
     },
     "metadata": {
      "tags": []
     },
     "output_type": "display_data"
    }
   ],
   "source": [
    "display(df.info())\n",
    "display(df.isna().sum())"
   ]
  },
  {
   "cell_type": "markdown",
   "metadata": {
    "id": "o8H3ESKA5dCW"
   },
   "source": [
    "#### Terdapat beberapa ribu data yang hilang dalam kolom 'education' dan 'previous_year_rating'"
   ]
  },
  {
   "cell_type": "markdown",
   "metadata": {
    "id": "-9BzubcT5dCX"
   },
   "source": [
    "### Imputasi"
   ]
  },
  {
   "cell_type": "code",
   "execution_count": null,
   "metadata": {
    "id": "PTrst_OX5dCX"
   },
   "outputs": [],
   "source": [
    "# Imputasi Numerik\n",
    "df['previous_year_rating'].fillna(df['previous_year_rating'].median(), inplace=True)\n",
    "# Imputasi Kategorik\n",
    "df['education'].fillna(df['education'].mode()[0], inplace=True)\n",
    "\n",
    "# Imputasi Numerik\n",
    "df2['previous_year_rating'].fillna(df2['previous_year_rating'].median(), inplace=True)\n",
    "# Imputasi Kategorik\n",
    "df2['education'].fillna(df2['education'].mode()[0], inplace=True)"
   ]
  },
  {
   "cell_type": "code",
   "execution_count": null,
   "metadata": {
    "colab": {
     "base_uri": "https://localhost:8080/",
     "height": 284
    },
    "id": "IjZwO-fh5dCX",
    "outputId": "02c71232-6f75-426d-86b2-a4aace41d1fc"
   },
   "outputs": [
    {
     "data": {
      "text/plain": [
       "employee_id             0\n",
       "department              0\n",
       "region                  0\n",
       "education               0\n",
       "gender                  0\n",
       "recruitment_channel     0\n",
       "no_of_trainings         0\n",
       "age                     0\n",
       "previous_year_rating    0\n",
       "length_of_service       0\n",
       "KPIs_met >80%           0\n",
       "awards_won?             0\n",
       "avg_training_score      0\n",
       "is_promoted             0\n",
       "dtype: int64"
      ]
     },
     "metadata": {
      "tags": []
     },
     "output_type": "display_data"
    }
   ],
   "source": [
    "display(df.isna().sum())"
   ]
  },
  {
   "cell_type": "markdown",
   "metadata": {
    "id": "rS0jbLJF5dCY"
   },
   "source": [
    "## Data Duplicated"
   ]
  },
  {
   "cell_type": "markdown",
   "metadata": {
    "id": "63rdKY7V5dCZ"
   },
   "source": [
    "Memeriksa jika ada data yang duplikat atau sama persis di dalam data"
   ]
  },
  {
   "cell_type": "code",
   "execution_count": null,
   "metadata": {
    "colab": {
     "base_uri": "https://localhost:8080/"
    },
    "id": "noosana75dCZ",
    "outputId": "b78a18ea-f051-4e0f-b519-3a820b0fc851"
   },
   "outputs": [
    {
     "name": "stdout",
     "output_type": "stream",
     "text": [
      "Jumlah data awal yang terduplikasi dalam data training:  0\n",
      "Jumlah data akhir yang terduplikasi dalam data training:  0\n"
     ]
    }
   ],
   "source": [
    "## CODE HERE\n",
    "print('Jumlah data awal yang terduplikasi dalam data training: ', df.duplicated().sum())\n",
    "df.drop_duplicates(inplace=True)\n",
    "print('Jumlah data akhir yang terduplikasi dalam data training: ', df.duplicated().sum())"
   ]
  },
  {
   "cell_type": "markdown",
   "metadata": {
    "id": "1bncCjHP5dCZ"
   },
   "source": [
    "## Feature Engineering"
   ]
  },
  {
   "cell_type": "markdown",
   "metadata": {
    "id": "2Rcufc-G5dCa"
   },
   "source": [
    "2 Feature baru dibuat:\n",
    "* Sum_of_metric = Gabungan dari berbagai feature / kolom yang melambangkan performa professional / kerja dari karyawan tersebut\n",
    "* total_score = nilai total dalam latihan yang didapatkan karyawan"
   ]
  },
  {
   "cell_type": "code",
   "execution_count": null,
   "metadata": {
    "id": "dCE2tAG35dCa"
   },
   "outputs": [],
   "source": [
    "# creating a Metric of Sum\n",
    "df['sum_metric'] = df['awards_won?']+df['KPIs_met >80%'] + df['previous_year_rating']\n",
    "# creating a total score column\n",
    "df['total_score'] = df['avg_training_score'] * df['no_of_trainings']\n",
    "df2['sum_metric'] = df2['awards_won?']+df['KPIs_met >80%'] + df2['previous_year_rating']\n",
    "# creating a total score column\n",
    "df2['total_score'] = df2['avg_training_score'] * df2['no_of_trainings']"
   ]
  },
  {
   "cell_type": "markdown",
   "metadata": {
    "id": "3n13pay75dCa"
   },
   "source": [
    "# EDA"
   ]
  },
  {
   "cell_type": "code",
   "execution_count": null,
   "metadata": {
    "id": "QJDebW815dCb"
   },
   "outputs": [],
   "source": [
    "# CODE HERE\n",
    "nums = ['total_score','sum_metric','no_of_trainings','age','previous_year_rating','length_of_service', 'KPIs_met >80%', 'awards_won?', 'avg_training_score', 'is_promoted']\n",
    "cats = ['department','region', 'education', 'gender','recruitment_channel']"
   ]
  },
  {
   "cell_type": "code",
   "execution_count": null,
   "metadata": {
    "colab": {
     "base_uri": "https://localhost:8080/",
     "height": 164
    },
    "id": "AfDdmSv75dCb",
    "outputId": "f4058124-ee7b-44ef-9b99-a0a4b845d1ac"
   },
   "outputs": [
    {
     "data": {
      "text/html": [
       "<div>\n",
       "<style scoped>\n",
       "    .dataframe tbody tr th:only-of-type {\n",
       "        vertical-align: middle;\n",
       "    }\n",
       "\n",
       "    .dataframe tbody tr th {\n",
       "        vertical-align: top;\n",
       "    }\n",
       "\n",
       "    .dataframe thead th {\n",
       "        text-align: right;\n",
       "    }\n",
       "</style>\n",
       "<table border=\"1\" class=\"dataframe\">\n",
       "  <thead>\n",
       "    <tr style=\"text-align: right;\">\n",
       "      <th></th>\n",
       "      <th>department</th>\n",
       "      <th>region</th>\n",
       "      <th>education</th>\n",
       "      <th>gender</th>\n",
       "      <th>recruitment_channel</th>\n",
       "    </tr>\n",
       "  </thead>\n",
       "  <tbody>\n",
       "    <tr>\n",
       "      <th>count</th>\n",
       "      <td>54808</td>\n",
       "      <td>54808</td>\n",
       "      <td>54808</td>\n",
       "      <td>54808</td>\n",
       "      <td>54808</td>\n",
       "    </tr>\n",
       "    <tr>\n",
       "      <th>unique</th>\n",
       "      <td>9</td>\n",
       "      <td>34</td>\n",
       "      <td>3</td>\n",
       "      <td>2</td>\n",
       "      <td>3</td>\n",
       "    </tr>\n",
       "    <tr>\n",
       "      <th>top</th>\n",
       "      <td>Sales &amp; Marketing</td>\n",
       "      <td>region_2</td>\n",
       "      <td>Bachelor's</td>\n",
       "      <td>m</td>\n",
       "      <td>other</td>\n",
       "    </tr>\n",
       "    <tr>\n",
       "      <th>freq</th>\n",
       "      <td>16840</td>\n",
       "      <td>12343</td>\n",
       "      <td>39078</td>\n",
       "      <td>38496</td>\n",
       "      <td>30446</td>\n",
       "    </tr>\n",
       "  </tbody>\n",
       "</table>\n",
       "</div>"
      ],
      "text/plain": [
       "               department    region   education gender recruitment_channel\n",
       "count               54808     54808       54808  54808               54808\n",
       "unique                  9        34           3      2                   3\n",
       "top     Sales & Marketing  region_2  Bachelor's      m               other\n",
       "freq                16840     12343       39078  38496               30446"
      ]
     },
     "execution_count": 9,
     "metadata": {
      "tags": []
     },
     "output_type": "execute_result"
    }
   ],
   "source": [
    "df[cats].describe()"
   ]
  },
  {
   "cell_type": "markdown",
   "metadata": {
    "id": "z-KMW4395dCb"
   },
   "source": [
    "Diputuskan untuk tidak menggunakan `region` karena terlalu memiliki banyak kategori."
   ]
  },
  {
   "cell_type": "code",
   "execution_count": null,
   "metadata": {
    "colab": {
     "base_uri": "https://localhost:8080/"
    },
    "collapsed": true,
    "id": "fqXDA-TV5dCc",
    "jupyter": {
     "outputs_hidden": true
    },
    "outputId": "96c17acb-1ad6-46bd-f67e-c5034b747a43"
   },
   "outputs": [
    {
     "name": "stdout",
     "output_type": "stream",
     "text": [
      "Value count kolom department:\n",
      "Sales & Marketing    16840\n",
      "Operations           11348\n",
      "Technology            7138\n",
      "Procurement           7138\n",
      "Analytics             5352\n",
      "Finance               2536\n",
      "HR                    2418\n",
      "Legal                 1039\n",
      "R&D                    999\n",
      "Name: department, dtype: int64\n",
      "\n",
      "Value count kolom region:\n",
      "region_2     12343\n",
      "region_22     6428\n",
      "region_7      4843\n",
      "region_15     2808\n",
      "region_13     2648\n",
      "region_26     2260\n",
      "region_31     1935\n",
      "region_4      1703\n",
      "region_27     1659\n",
      "region_16     1465\n",
      "region_28     1318\n",
      "region_11     1315\n",
      "region_23     1175\n",
      "region_29      994\n",
      "region_32      945\n",
      "region_19      874\n",
      "region_20      850\n",
      "region_14      827\n",
      "region_25      819\n",
      "region_17      796\n",
      "region_5       766\n",
      "region_6       690\n",
      "region_30      657\n",
      "region_8       655\n",
      "region_10      648\n",
      "region_1       610\n",
      "region_24      508\n",
      "region_12      500\n",
      "region_9       420\n",
      "region_21      411\n",
      "region_3       346\n",
      "region_34      292\n",
      "region_33      269\n",
      "region_18       31\n",
      "Name: region, dtype: int64\n",
      "\n",
      "Value count kolom education:\n",
      "Bachelor's          39078\n",
      "Master's & above    14925\n",
      "Below Secondary       805\n",
      "Name: education, dtype: int64\n",
      "\n",
      "Value count kolom gender:\n",
      "m    38496\n",
      "f    16312\n",
      "Name: gender, dtype: int64\n",
      "\n",
      "Value count kolom recruitment_channel:\n",
      "other       30446\n",
      "sourcing    23220\n",
      "referred     1142\n",
      "Name: recruitment_channel, dtype: int64\n",
      "\n"
     ]
    }
   ],
   "source": [
    "# CODE HERE\n",
    "for col in cats:\n",
    "    print(f'''Value count kolom {col}:''')\n",
    "    print(df[col].value_counts())\n",
    "    print()"
   ]
  },
  {
   "cell_type": "markdown",
   "metadata": {
    "id": "IWs_PLk15dCc"
   },
   "source": [
    "Seperti yang bisa dilihat, pengamatan kita dari `df.describe()` tadi ternyata adalah BENAR karena:\n",
    "* Sebaran nilai di kolom `department`, `region`, `education`, `gender`, `recruitment_channel`terlihat didominasi nilai tertentu\n",
    "* Mayoritas data pada kolom `department` adalah kategori `Sales & Marketing` dengan frekuensi 16840\n",
    "* Mayoritas data pada kolom `region` adalah kategori `region_2` dengan frekuensi 12343\n",
    "* Mayoritas data pada kolom `education` adalah kategori `Bachelor's` dengan frekuensi 36669\n",
    "* Mayoritas data pada kolom `gender` adalah kategori `laki-laki` dengan frekuensi 38496\n",
    "* Mayoritas data pada kolom `recruitment_channel` adalah kategori `other` dengan frekuensi 30446"
   ]
  },
  {
   "cell_type": "code",
   "execution_count": null,
   "metadata": {
    "colab": {
     "base_uri": "https://localhost:8080/",
     "height": 577
    },
    "id": "nsLEkVRa5dCd",
    "outputId": "40dd2577-cc3d-4fae-8178-a87904bbbeee"
   },
   "outputs": [
    {
     "data": {
      "image/png": "[encoded data removed]",
      "text/plain": [
       "<Figure size 1152x576 with 10 Axes>"
      ]
     },
     "metadata": {
      "tags": []
     },
     "output_type": "display_data"
    }
   ],
   "source": [
    "# CODE HERE\n",
    "plt.figure(figsize=(16,8))\n",
    "for i in range(0, len(nums)):\n",
    "    plt.subplot(1, len(nums), i+1)\n",
    "    sns.boxplot(y=df[nums[i]], color='yellow', orient='v')\n",
    "    plt.tight_layout()"
   ]
  },
  {
   "cell_type": "markdown",
   "metadata": {
    "id": "o9uEiwPt5dCd"
   },
   "source": [
    "## Deteksi Imbalance"
   ]
  },
  {
   "cell_type": "code",
   "execution_count": null,
   "metadata": {
    "colab": {
     "base_uri": "https://localhost:8080/",
     "height": 354
    },
    "id": "-S4yPONK5dCd",
    "outputId": "b8dfe977-9e6c-4d1c-d933-1e9c7a59d75c"
   },
   "outputs": [
    {
     "data": {
      "image/png": "[encoded data removed]",
      "text/plain": [
       "<Figure size 720x360 with 1 Axes>"
      ]
     },
     "metadata": {
      "tags": []
     },
     "output_type": "display_data"
    }
   ],
   "source": [
    "# lets check the Target Class Balance\n",
    "plt.rcParams['figure.figsize'] = (10, 5)\n",
    "plt.style.use('fivethirtyeight')\n",
    "\n",
    "plt.subplot(1, 2, 1)\n",
    "sns.countplot(x=df['is_promoted'],)\n",
    "\n",
    "plt.xlabel('Promoted or Not?', fontsize = 10)\n",
    "plt.show()"
   ]
  },
  {
   "cell_type": "markdown",
   "metadata": {
    "id": "lwcDGQcQ5dCe"
   },
   "source": [
    "Target kita `is_promoted` tidak seimbang jumlahnya / sangat timpang sekali jumlahnya (imbalance). Sehingga perlu dilakukan oversampling / undersampling."
   ]
  },
  {
   "cell_type": "code",
   "execution_count": null,
   "metadata": {
    "colab": {
     "base_uri": "https://localhost:8080/",
     "height": 282
    },
    "id": "RdzzHN5f5dCe",
    "outputId": "13aa06a0-c628-4ddf-9416-f0d071bfd6f2"
   },
   "outputs": [
    {
     "data": {
      "text/html": [
       "<div>\n",
       "<style scoped>\n",
       "    .dataframe tbody tr th:only-of-type {\n",
       "        vertical-align: middle;\n",
       "    }\n",
       "\n",
       "    .dataframe tbody tr th {\n",
       "        vertical-align: top;\n",
       "    }\n",
       "\n",
       "    .dataframe thead th {\n",
       "        text-align: right;\n",
       "    }\n",
       "</style>\n",
       "<table border=\"1\" class=\"dataframe\">\n",
       "  <thead>\n",
       "    <tr style=\"text-align: right;\">\n",
       "      <th></th>\n",
       "      <th>employee_id</th>\n",
       "      <th>no_of_trainings</th>\n",
       "      <th>age</th>\n",
       "      <th>previous_year_rating</th>\n",
       "      <th>length_of_service</th>\n",
       "      <th>KPIs_met &gt;80%</th>\n",
       "      <th>awards_won?</th>\n",
       "      <th>avg_training_score</th>\n",
       "      <th>is_promoted</th>\n",
       "      <th>sum_metric</th>\n",
       "      <th>total_score</th>\n",
       "    </tr>\n",
       "  </thead>\n",
       "  <tbody>\n",
       "    <tr>\n",
       "      <th>count</th>\n",
       "      <td>54808.000000</td>\n",
       "      <td>54808.000000</td>\n",
       "      <td>54808.000000</td>\n",
       "      <td>54808.000000</td>\n",
       "      <td>54808.000000</td>\n",
       "      <td>54808.000000</td>\n",
       "      <td>54808.000000</td>\n",
       "      <td>54808.000000</td>\n",
       "      <td>54808.000000</td>\n",
       "      <td>54808.000000</td>\n",
       "      <td>54808.000000</td>\n",
       "    </tr>\n",
       "    <tr>\n",
       "      <th>mean</th>\n",
       "      <td>39195.830627</td>\n",
       "      <td>1.253011</td>\n",
       "      <td>34.803915</td>\n",
       "      <td>3.304481</td>\n",
       "      <td>5.865512</td>\n",
       "      <td>0.351974</td>\n",
       "      <td>0.023172</td>\n",
       "      <td>63.386750</td>\n",
       "      <td>0.085170</td>\n",
       "      <td>3.679627</td>\n",
       "      <td>79.770636</td>\n",
       "    </tr>\n",
       "    <tr>\n",
       "      <th>std</th>\n",
       "      <td>22586.581449</td>\n",
       "      <td>0.609264</td>\n",
       "      <td>7.660169</td>\n",
       "      <td>1.214770</td>\n",
       "      <td>4.265094</td>\n",
       "      <td>0.477590</td>\n",
       "      <td>0.150450</td>\n",
       "      <td>13.371559</td>\n",
       "      <td>0.279137</td>\n",
       "      <td>1.463389</td>\n",
       "      <td>43.879135</td>\n",
       "    </tr>\n",
       "    <tr>\n",
       "      <th>min</th>\n",
       "      <td>1.000000</td>\n",
       "      <td>1.000000</td>\n",
       "      <td>20.000000</td>\n",
       "      <td>1.000000</td>\n",
       "      <td>1.000000</td>\n",
       "      <td>0.000000</td>\n",
       "      <td>0.000000</td>\n",
       "      <td>39.000000</td>\n",
       "      <td>0.000000</td>\n",
       "      <td>1.000000</td>\n",
       "      <td>39.000000</td>\n",
       "    </tr>\n",
       "    <tr>\n",
       "      <th>25%</th>\n",
       "      <td>19669.750000</td>\n",
       "      <td>1.000000</td>\n",
       "      <td>29.000000</td>\n",
       "      <td>3.000000</td>\n",
       "      <td>3.000000</td>\n",
       "      <td>0.000000</td>\n",
       "      <td>0.000000</td>\n",
       "      <td>51.000000</td>\n",
       "      <td>0.000000</td>\n",
       "      <td>3.000000</td>\n",
       "      <td>53.000000</td>\n",
       "    </tr>\n",
       "    <tr>\n",
       "      <th>50%</th>\n",
       "      <td>39225.500000</td>\n",
       "      <td>1.000000</td>\n",
       "      <td>33.000000</td>\n",
       "      <td>3.000000</td>\n",
       "      <td>5.000000</td>\n",
       "      <td>0.000000</td>\n",
       "      <td>0.000000</td>\n",
       "      <td>60.000000</td>\n",
       "      <td>0.000000</td>\n",
       "      <td>4.000000</td>\n",
       "      <td>64.000000</td>\n",
       "    </tr>\n",
       "    <tr>\n",
       "      <th>75%</th>\n",
       "      <td>58730.500000</td>\n",
       "      <td>1.000000</td>\n",
       "      <td>39.000000</td>\n",
       "      <td>4.000000</td>\n",
       "      <td>7.000000</td>\n",
       "      <td>1.000000</td>\n",
       "      <td>0.000000</td>\n",
       "      <td>76.000000</td>\n",
       "      <td>0.000000</td>\n",
       "      <td>5.000000</td>\n",
       "      <td>84.000000</td>\n",
       "    </tr>\n",
       "    <tr>\n",
       "      <th>max</th>\n",
       "      <td>78298.000000</td>\n",
       "      <td>10.000000</td>\n",
       "      <td>60.000000</td>\n",
       "      <td>5.000000</td>\n",
       "      <td>37.000000</td>\n",
       "      <td>1.000000</td>\n",
       "      <td>1.000000</td>\n",
       "      <td>99.000000</td>\n",
       "      <td>1.000000</td>\n",
       "      <td>7.000000</td>\n",
       "      <td>710.000000</td>\n",
       "    </tr>\n",
       "  </tbody>\n",
       "</table>\n",
       "</div>"
      ],
      "text/plain": [
       "        employee_id  no_of_trainings           age  previous_year_rating  \\\n",
       "count  54808.000000     54808.000000  54808.000000          54808.000000   \n",
       "mean   39195.830627         1.253011     34.803915              3.304481   \n",
       "std    22586.581449         0.609264      7.660169              1.214770   \n",
       "min        1.000000         1.000000     20.000000              1.000000   \n",
       "25%    19669.750000         1.000000     29.000000              3.000000   \n",
       "50%    39225.500000         1.000000     33.000000              3.000000   \n",
       "75%    58730.500000         1.000000     39.000000              4.000000   \n",
       "max    78298.000000        10.000000     60.000000              5.000000   \n",
       "\n",
       "       length_of_service  KPIs_met >80%   awards_won?  avg_training_score  \\\n",
       "count       54808.000000   54808.000000  54808.000000        54808.000000   \n",
       "mean            5.865512       0.351974      0.023172           63.386750   \n",
       "std             4.265094       0.477590      0.150450           13.371559   \n",
       "min             1.000000       0.000000      0.000000           39.000000   \n",
       "25%             3.000000       0.000000      0.000000           51.000000   \n",
       "50%             5.000000       0.000000      0.000000           60.000000   \n",
       "75%             7.000000       1.000000      0.000000           76.000000   \n",
       "max            37.000000       1.000000      1.000000           99.000000   \n",
       "\n",
       "        is_promoted    sum_metric   total_score  \n",
       "count  54808.000000  54808.000000  54808.000000  \n",
       "mean       0.085170      3.679627     79.770636  \n",
       "std        0.279137      1.463389     43.879135  \n",
       "min        0.000000      1.000000     39.000000  \n",
       "25%        0.000000      3.000000     53.000000  \n",
       "50%        0.000000      4.000000     64.000000  \n",
       "75%        0.000000      5.000000     84.000000  \n",
       "max        1.000000      7.000000    710.000000  "
      ]
     },
     "execution_count": 13,
     "metadata": {
      "tags": []
     },
     "output_type": "execute_result"
    }
   ],
   "source": [
    "df.describe()"
   ]
  },
  {
   "cell_type": "markdown",
   "metadata": {
    "id": "pFKL0d3u5dCe"
   },
   "source": [
    "## Standarisasi"
   ]
  },
  {
   "cell_type": "code",
   "execution_count": null,
   "metadata": {
    "id": "Zdt4-vhY5dCf"
   },
   "outputs": [],
   "source": [
    "from sklearn.preprocessing import MinMaxScaler, StandardScaler\n",
    "## CODE HERE\n",
    "df['length_of_service_norm'] = MinMaxScaler().fit_transform(df['length_of_service'].values.reshape(len(df), 1))\n",
    "df['avg_training_score_norm'] = MinMaxScaler().fit_transform(df['avg_training_score'].values.reshape(len(df), 1))\n",
    "df['age_norm'] = MinMaxScaler().fit_transform(df['age'].values.reshape(len(df), 1))\n",
    "df['no_of_trainings_norm'] = MinMaxScaler().fit_transform(df['no_of_trainings'].values.reshape(len(df), 1))\n",
    "df['previous_year_rating_norm'] = MinMaxScaler().fit_transform(df['previous_year_rating'].values.reshape(len(df), 1))\n",
    "df['sum_metric_norm'] = MinMaxScaler().fit_transform(df['sum_metric'].values.reshape(len(df), 1))\n",
    "df['total_score_norm'] = MinMaxScaler().fit_transform(df['total_score'].values.reshape(len(df), 1))\n",
    "\n",
    "\n",
    "from sklearn.preprocessing import MinMaxScaler, StandardScaler\n",
    "## CODE HERE\n",
    "df2['length_of_service_norm'] = MinMaxScaler().fit_transform(df2['length_of_service'].values.reshape(len(df2), 1))\n",
    "df2['avg_training_score_norm'] = MinMaxScaler().fit_transform(df2['avg_training_score'].values.reshape(len(df2), 1))\n",
    "df2['age_norm'] = MinMaxScaler().fit_transform(df2['age'].values.reshape(len(df2), 1))\n",
    "df2['no_of_trainings_norm'] = MinMaxScaler().fit_transform(df2['no_of_trainings'].values.reshape(len(df2), 1))\n",
    "df2['previous_year_rating_norm'] = MinMaxScaler().fit_transform(df2['previous_year_rating'].values.reshape(len(df2), 1))\n",
    "df2['sum_metric_norm'] = MinMaxScaler().fit_transform(df2['sum_metric'].values.reshape(len(df2), 1))\n",
    "df2['total_score_norm'] = MinMaxScaler().fit_transform(df2['total_score'].values.reshape(len(df2), 1))"
   ]
  },
  {
   "cell_type": "code",
   "execution_count": null,
   "metadata": {
    "id": "ILo9Oq1x5dCf"
   },
   "outputs": [],
   "source": [
    "df1=df.drop(['sum_metric', 'total_score', 'employee_id','region', 'age', 'length_of_service', 'no_of_trainings', 'previous_year_rating', 'avg_training_score'], axis=1)\n",
    "df3=df2.drop(['sum_metric', 'total_score', 'employee_id','region', 'age', 'length_of_service', 'no_of_trainings', 'previous_year_rating', 'avg_training_score'], axis=1)"
   ]
  },
  {
   "cell_type": "markdown",
   "metadata": {
    "id": "AWsRuSiP5dCg"
   },
   "source": [
    "## Kode untuk mengganti data tipe object menjadi integer"
   ]
  },
  {
   "cell_type": "code",
   "execution_count": null,
   "metadata": {
    "id": "DTxwqTYo5dCg"
   },
   "outputs": [],
   "source": [
    "#untuk df1\n",
    "df1['gender']=df1['gender'].map({'f':1,'m':2})\n",
    "df1['department']=df1['department'].map({'Sales & Marketing':1,'Operations':2, 'Procurement':3, 'Technology':4, 'Analytics':5, 'Finance':6, 'HR':7, 'Legal':8, 'R&D':9})\n",
    "df1['education']=df1['education'].map({\"Below Secondary\":1, \"Bachelor's\":2, \"Master's & above\":3})\n",
    "df1['recruitment_channel']=df1['recruitment_channel'].map({'other':1, 'sourcing':2, 'referred':3})\n",
    "\n",
    "#untuk df2\n",
    "df3['gender']=df3['gender'].map({'f':1,'m':2})\n",
    "df3['department']=df3['department'].map({'Sales & Marketing':1,'Operations':2, 'Procurement':3, 'Technology':4, 'Analytics':5, 'Finance':6, 'HR':7, 'Legal':8, 'R&D':9})\n",
    "df3['education']=df3['education'].map({\"Below Secondary\":1, \"Bachelor's\":2, \"Master's & above\":3})\n",
    "df3['recruitment_channel']=df3['recruitment_channel'].map({'other':1, 'sourcing':2, 'referred':3})"
   ]
  },
  {
   "cell_type": "code",
   "execution_count": null,
   "metadata": {
    "colab": {
     "base_uri": "https://localhost:8080/"
    },
    "id": "yXLc27Sy5dCg",
    "outputId": "b65b9f1d-2276-42f1-8f2c-07960d021e0e"
   },
   "outputs": [
    {
     "name": "stdout",
     "output_type": "stream",
     "text": [
      "<class 'pandas.core.frame.DataFrame'>\n",
      "Int64Index: 54808 entries, 0 to 54807\n",
      "Data columns (total 14 columns):\n",
      " #   Column                     Non-Null Count  Dtype  \n",
      "---  ------                     --------------  -----  \n",
      " 0   department                 54808 non-null  int64  \n",
      " 1   education                  54808 non-null  int64  \n",
      " 2   gender                     54808 non-null  int64  \n",
      " 3   recruitment_channel        54808 non-null  int64  \n",
      " 4   KPIs_met >80%              54808 non-null  int64  \n",
      " 5   awards_won?                54808 non-null  int64  \n",
      " 6   is_promoted                54808 non-null  int64  \n",
      " 7   length_of_service_norm     54808 non-null  float64\n",
      " 8   avg_training_score_norm    54808 non-null  float64\n",
      " 9   age_norm                   54808 non-null  float64\n",
      " 10  no_of_trainings_norm       54808 non-null  float64\n",
      " 11  previous_year_rating_norm  54808 non-null  float64\n",
      " 12  sum_metric_norm            54808 non-null  float64\n",
      " 13  total_score_norm           54808 non-null  float64\n",
      "dtypes: float64(7), int64(7)\n",
      "memory usage: 8.8 MB\n"
     ]
    }
   ],
   "source": [
    "df1.info()"
   ]
  },
  {
   "cell_type": "code",
   "execution_count": null,
   "metadata": {
    "id": "KPT5768P5dCh"
   },
   "outputs": [],
   "source": [
    "df4=df3.copy()"
   ]
  },
  {
   "cell_type": "markdown",
   "metadata": {
    "id": "Ge-HNMjB5dCh"
   },
   "source": [
    "# Dataset Split Train/Test"
   ]
  },
  {
   "cell_type": "code",
   "execution_count": null,
   "metadata": {
    "id": "1OKI_qKX5dCh"
   },
   "outputs": [],
   "source": [
    "y = df1['is_promoted']\n",
    "x = df1.drop(['is_promoted'], axis = 1)\n",
    "x_test = df4"
   ]
  },
  {
   "cell_type": "code",
   "execution_count": null,
   "metadata": {
    "colab": {
     "base_uri": "https://localhost:8080/"
    },
    "id": "NMD95wW05dCi",
    "outputId": "5a5bface-8b65-4113-fc74-7996ad467b68"
   },
   "outputs": [
    {
     "name": "stdout",
     "output_type": "stream",
     "text": [
      "Shape of the x Train : (38365, 13)\n",
      "Shape of the y Train : (38365,)\n",
      "Shape of the x Valid : (16443, 13)\n",
      "Shape of the y Valid : (16443,)\n"
     ]
    }
   ],
   "source": [
    "from sklearn.model_selection import train_test_split\n",
    "\n",
    "x_train, x_valid, y_train, y_valid = train_test_split(x, y, test_size =0.3, random_state = 42)\n",
    "\n",
    "# lets print the shapes again \n",
    "print(\"Shape of the x Train :\", x_train.shape)\n",
    "print(\"Shape of the y Train :\", y_train.shape)\n",
    "print(\"Shape of the x Valid :\", x_valid.shape)\n",
    "print(\"Shape of the y Valid :\", y_valid.shape)"
   ]
  },
  {
   "cell_type": "markdown",
   "metadata": {
    "id": "4FdnU0uN5dCi"
   },
   "source": [
    "# Resampling Data Untuk Dataset Train"
   ]
  },
  {
   "cell_type": "code",
   "execution_count": null,
   "metadata": {
    "colab": {
     "base_uri": "https://localhost:8080/"
    },
    "id": "mXUP51qa5dCi",
    "outputId": "d7b00422-11a2-42aa-c86a-791ba143d294"
   },
   "outputs": [
    {
     "data": {
      "text/plain": [
       "0    35030\n",
       "1     3335\n",
       "Name: is_promoted, dtype: int64"
      ]
     },
     "execution_count": 21,
     "metadata": {
      "tags": []
     },
     "output_type": "execute_result"
    }
   ],
   "source": [
    "pd.Series(y_train).value_counts()"
   ]
  },
  {
   "cell_type": "code",
   "execution_count": null,
   "metadata": {
    "colab": {
     "base_uri": "https://localhost:8080/"
    },
    "id": "YpqH0bWW5dCi",
    "outputId": "b416d16d-75ed-4351-de28-57cbb28774bb"
   },
   "outputs": [
    {
     "name": "stdout",
     "output_type": "stream",
     "text": [
      "(70060, 13)\n",
      "(70060,)\n"
     ]
    }
   ],
   "source": [
    "from imblearn.over_sampling import SMOTE\n",
    "\n",
    "x_resample, y_resample  = SMOTE().fit_sample(x_train, y_train.values.ravel())\n",
    "\n",
    "# lets print the shape of x and y after resampling it\n",
    "print(x_resample.shape)\n",
    "print(y_resample.shape)"
   ]
  },
  {
   "cell_type": "code",
   "execution_count": null,
   "metadata": {
    "colab": {
     "base_uri": "https://localhost:8080/"
    },
    "id": "srUe7Xbk5dCj",
    "outputId": "97d3a73b-3d64-479d-9643-a8a8aa38fde5"
   },
   "outputs": [
    {
     "data": {
      "text/plain": [
       "1    35030\n",
       "0    35030\n",
       "dtype: int64"
      ]
     },
     "execution_count": 23,
     "metadata": {
      "tags": []
     },
     "output_type": "execute_result"
    }
   ],
   "source": [
    "pd.Series(y_resample).value_counts()"
   ]
  },
  {
   "cell_type": "code",
   "execution_count": null,
   "metadata": {
    "colab": {
     "base_uri": "https://localhost:8080/"
    },
    "id": "QdcmfR115dCj",
    "outputId": "751fa2bf-11a1-4ad2-b7c6-f47c885cac37"
   },
   "outputs": [
    {
     "name": "stdout",
     "output_type": "stream",
     "text": [
      "Before Resampling :\n",
      "0    50140\n",
      "1     4668\n",
      "Name: is_promoted, dtype: int64\n",
      "0    35030\n",
      "1     3335\n",
      "Name: is_promoted, dtype: int64\n",
      "After Resampling :\n",
      "1    35030\n",
      "0    35030\n",
      "Name: 0, dtype: int64\n"
     ]
    }
   ],
   "source": [
    "print(\"Before Resampling :\")\n",
    "print(y.value_counts())\n",
    "print(y_train.value_counts())\n",
    "\n",
    "print(\"After Resampling :\")\n",
    "y_resample = pd.DataFrame(y_resample)\n",
    "print(y_resample[0].value_counts())"
   ]
  },
  {
   "cell_type": "markdown",
   "metadata": {
    "id": "-2N2KsF35dCj"
   },
   "source": [
    "# Modelling"
   ]
  },
  {
   "cell_type": "markdown",
   "metadata": {
    "id": "CIgXkRow5dCj"
   },
   "source": [
    "## Random Forest"
   ]
  },
  {
   "cell_type": "code",
   "execution_count": null,
   "metadata": {
    "colab": {
     "base_uri": "https://localhost:8080/"
    },
    "id": "rguoeuzD5dCk",
    "outputId": "23e5726e-b9f9-4999-9d38-f20dab2d42ab"
   },
   "outputs": [
    {
     "name": "stdout",
     "output_type": "stream",
     "text": [
      "\n",
      "classification report\n",
      "              precision    recall  f1-score   support\n",
      "\n",
      "           0       0.95      0.97      0.96     15110\n",
      "           1       0.52      0.40      0.46      1333\n",
      "\n",
      "    accuracy                           0.92     16443\n",
      "   macro avg       0.74      0.69      0.71     16443\n",
      "weighted avg       0.91      0.92      0.92     16443\n",
      "\n"
     ]
    }
   ],
   "source": [
    "from sklearn.ensemble import RandomForestClassifier\n",
    "\n",
    "rf = RandomForestClassifier() # default n_estimator: 100\n",
    "rf.fit(x_resample,y_resample.values.ravel())\n",
    "\n",
    "#predict\n",
    "y_predicted = rf.predict(x_valid)\n",
    "\n",
    "#eval\n",
    "from sklearn.metrics import classification_report\n",
    "print('\\nclassification report')\n",
    "print(classification_report(y_valid, y_predicted)) # generate the precision, recall, f-1 score, num"
   ]
  },
  {
   "cell_type": "code",
   "execution_count": null,
   "metadata": {
    "colab": {
     "base_uri": "https://localhost:8080/"
    },
    "id": "tvrKC99w5dCk",
    "outputId": "8f0f4794-b0ee-4575-9b38-b7e4836429d9"
   },
   "outputs": [
    {
     "data": {
      "text/plain": [
       "0.6852771101445116"
      ]
     },
     "execution_count": 92,
     "metadata": {
      "tags": []
     },
     "output_type": "execute_result"
    }
   ],
   "source": [
    "roc_auc_score(y_valid, y_predicted, average='micro', sample_weight=None)"
   ]
  },
  {
   "cell_type": "markdown",
   "metadata": {
    "id": "ZimHv5cHykXD"
   },
   "source": [
    "### Percobaan Kedua"
   ]
  },
  {
   "cell_type": "code",
   "execution_count": null,
   "metadata": {
    "id": "y_5upZKZykXD",
    "outputId": "90c9433b-b096-4f20-fed7-ac7149dc50a4"
   },
   "outputs": [
    {
     "name": "stdout",
     "output_type": "stream",
     "text": [
      "\n",
      "classification report\n",
      "              precision    recall  f1-score   support\n",
      "\n",
      "           0       0.95      0.97      0.96     15110\n",
      "           1       0.53      0.40      0.45      1333\n",
      "\n",
      "    accuracy                           0.92     16443\n",
      "   macro avg       0.74      0.68      0.71     16443\n",
      "weighted avg       0.91      0.92      0.92     16443\n",
      "\n"
     ]
    }
   ],
   "source": [
    "from sklearn.ensemble import RandomForestClassifier\n",
    "\n",
    "rf = RandomForestClassifier() # default n_estimator: 100\n",
    "rf.fit(x_resample,y_resample.values.ravel())\n",
    "\n",
    "#predict\n",
    "y_predicted = rf.predict(x_valid)\n",
    "\n",
    "#eval\n",
    "from sklearn.metrics import classification_report\n",
    "print('\\nclassification report')\n",
    "print(classification_report(y_valid, y_predicted)) # generate the precision, recall, f-1 score, num"
   ]
  },
  {
   "cell_type": "code",
   "execution_count": null,
   "metadata": {
    "id": "zR2L-Iyr5dCk"
   },
   "outputs": [],
   "source": [
    "from sklearn.metrics import roc_curve, auc, roc_auc_score"
   ]
  },
  {
   "cell_type": "code",
   "execution_count": null,
   "metadata": {
    "id": "ycySjjsHykXE",
    "outputId": "b89b12c5-5b5b-4b26-df67-ac5a6b86dff7"
   },
   "outputs": [
    {
     "data": {
      "text/plain": [
       "0.6827727199834374"
      ]
     },
     "execution_count": 63,
     "metadata": {
      "tags": []
     },
     "output_type": "execute_result"
    }
   ],
   "source": [
    "roc_auc_score(y_valid, y_predicted, average='micro', sample_weight=None)"
   ]
  },
  {
   "cell_type": "code",
   "execution_count": null,
   "metadata": {
    "id": "tAugrvL45dCl"
   },
   "outputs": [],
   "source": [
    "y_pred_test = rf.predict(x_test)"
   ]
  },
  {
   "cell_type": "code",
   "execution_count": null,
   "metadata": {
    "colab": {
     "base_uri": "https://localhost:8080/",
     "height": 399
    },
    "id": "QYthpfUA5dCl",
    "outputId": "ae9d303a-614c-4132-a112-2f5dfc45d981"
   },
   "outputs": [
    {
     "data": {
      "text/html": [
       "<div>\n",
       "<style scoped>\n",
       "    .dataframe tbody tr th:only-of-type {\n",
       "        vertical-align: middle;\n",
       "    }\n",
       "\n",
       "    .dataframe tbody tr th {\n",
       "        vertical-align: top;\n",
       "    }\n",
       "\n",
       "    .dataframe thead th {\n",
       "        text-align: right;\n",
       "    }\n",
       "</style>\n",
       "<table border=\"1\" class=\"dataframe\">\n",
       "  <thead>\n",
       "    <tr style=\"text-align: right;\">\n",
       "      <th></th>\n",
       "      <th>department</th>\n",
       "      <th>Predictionfix</th>\n",
       "    </tr>\n",
       "  </thead>\n",
       "  <tbody>\n",
       "    <tr>\n",
       "      <th>0</th>\n",
       "      <td>4</td>\n",
       "      <td>0</td>\n",
       "    </tr>\n",
       "    <tr>\n",
       "      <th>1</th>\n",
       "      <td>7</td>\n",
       "      <td>0</td>\n",
       "    </tr>\n",
       "    <tr>\n",
       "      <th>2</th>\n",
       "      <td>1</td>\n",
       "      <td>0</td>\n",
       "    </tr>\n",
       "    <tr>\n",
       "      <th>3</th>\n",
       "      <td>3</td>\n",
       "      <td>0</td>\n",
       "    </tr>\n",
       "    <tr>\n",
       "      <th>4</th>\n",
       "      <td>6</td>\n",
       "      <td>0</td>\n",
       "    </tr>\n",
       "    <tr>\n",
       "      <th>...</th>\n",
       "      <td>...</td>\n",
       "      <td>...</td>\n",
       "    </tr>\n",
       "    <tr>\n",
       "      <th>23485</th>\n",
       "      <td>8</td>\n",
       "      <td>0</td>\n",
       "    </tr>\n",
       "    <tr>\n",
       "      <th>23486</th>\n",
       "      <td>4</td>\n",
       "      <td>0</td>\n",
       "    </tr>\n",
       "    <tr>\n",
       "      <th>23487</th>\n",
       "      <td>7</td>\n",
       "      <td>0</td>\n",
       "    </tr>\n",
       "    <tr>\n",
       "      <th>23488</th>\n",
       "      <td>3</td>\n",
       "      <td>0</td>\n",
       "    </tr>\n",
       "    <tr>\n",
       "      <th>23489</th>\n",
       "      <td>4</td>\n",
       "      <td>1</td>\n",
       "    </tr>\n",
       "  </tbody>\n",
       "</table>\n",
       "<p>23490 rows × 2 columns</p>\n",
       "</div>"
      ],
      "text/plain": [
       "       department  Predictionfix\n",
       "0               4              0\n",
       "1               7              0\n",
       "2               1              0\n",
       "3               3              0\n",
       "4               6              0\n",
       "...           ...            ...\n",
       "23485           8              0\n",
       "23486           4              0\n",
       "23487           7              0\n",
       "23488           3              0\n",
       "23489           4              1\n",
       "\n",
       "[23490 rows x 2 columns]"
      ]
     },
     "execution_count": 65,
     "metadata": {
      "tags": []
     },
     "output_type": "execute_result"
    }
   ],
   "source": [
    "hasil=pd.DataFrame(df3[['department']])\n",
    "hasil['Predictionfix']=pd.DataFrame(y_pred_test)\n",
    "hasil"
   ]
  },
  {
   "cell_type": "code",
   "execution_count": null,
   "metadata": {
    "id": "l9uZbsSE5dCm"
   },
   "outputs": [],
   "source": [
    "hasil.to_excel('/content/gdrive/My Drive/promosi2.xlsx',index=False)"
   ]
  },
  {
   "cell_type": "code",
   "execution_count": null,
   "metadata": {
    "id": "SnQPCmpq5dCm"
   },
   "outputs": [],
   "source": [
    "from sklearn import metrics\n",
    "cf = metrics.confusion_matrix(y_valid, y_predicted)"
   ]
  },
  {
   "cell_type": "markdown",
   "metadata": {
    "id": "PWBKW6-oykXG"
   },
   "source": [
    "### Matrix untuk Perco"
   ]
  },
  {
   "cell_type": "code",
   "execution_count": null,
   "metadata": {
    "colab": {
     "base_uri": "https://localhost:8080/",
     "height": 383
    },
    "id": "ETtI1YlZ5dCm",
    "jupyter": {
     "source_hidden": true
    },
    "outputId": "355b0461-fcba-4587-feea-19b2fd722ea5"
   },
   "outputs": [
    {
     "data": {
      "image/png": "[encoded data removed]",
      "text/plain": [
       "<Figure size 216x216 with 2 Axes>"
      ]
     },
     "metadata": {
      "tags": []
     },
     "output_type": "display_data"
    }
   ],
   "source": [
    "def make_confusion_matrix(cf,\n",
    "                          group_names=None,\n",
    "                          categories='auto',\n",
    "                          count=True,\n",
    "                          percent=True,\n",
    "                          cbar=True,\n",
    "                          xyticks=True,\n",
    "                          xyplotlabels=True,\n",
    "                          sum_stats=True,\n",
    "                          figsize=None,\n",
    "                          cmap='Blues',\n",
    "                          title=None):\n",
    "    '''\n",
    "    This function will make a pretty plot of an sklearn Confusion Matrix cm using a Seaborn heatmap visualization.\n",
    "    Arguments\n",
    "    ---------\n",
    "    cf:            confusion matrix to be passed in\n",
    "    group_names:   List of strings that represent the labels row by row to be shown in each square.\n",
    "    categories:    List of strings containing the categories to be displayed on the x,y axis. Default is 'auto'\n",
    "    count:         If True, show the raw number in the confusion matrix. Default is True.\n",
    "    normalize:     If True, show the proportions for each category. Default is True.\n",
    "    cbar:          If True, show the color bar. The cbar values are based off the values in the confusion matrix.\n",
    "                   Default is True.\n",
    "    xyticks:       If True, show x and y ticks. Default is True.\n",
    "    xyplotlabels:  If True, show 'True Label' and 'Predicted Label' on the figure. Default is True.\n",
    "    sum_stats:     If True, display summary statistics below the figure. Default is True.\n",
    "    figsize:       Tuple representing the figure size. Default will be the matplotlib rcParams value.\n",
    "    cmap:          Colormap of the values displayed from matplotlib.pyplot.cm. Default is 'Blues'\n",
    "                   See http://matplotlib.org/examples/color/colormaps_reference.html\n",
    "                   \n",
    "    title:         Title for the heatmap. Default is None.\n",
    "    '''\n",
    "\n",
    "\n",
    "    # CODE TO GENERATE TEXT INSIDE EACH SQUARE\n",
    "    blanks = ['' for i in range(cf.size)]\n",
    "\n",
    "    if group_names and len(group_names)==cf.size:\n",
    "        group_labels = [\"{}\\n\".format(value) for value in group_names]\n",
    "    else:\n",
    "        group_labels = blanks\n",
    "\n",
    "    if count:\n",
    "        group_counts = [\"{0:0.0f}\\n\".format(value) for value in cf.flatten()]\n",
    "    else:\n",
    "        group_counts = blanks\n",
    "\n",
    "    if percent:\n",
    "        group_percentages = [\"{0:.2%}\".format(value) for value in cf.flatten()/np.sum(cf)]\n",
    "    else:\n",
    "        group_percentages = blanks\n",
    "\n",
    "    box_labels = [f\"{v1}{v2}{v3}\".strip() for v1, v2, v3 in zip(group_labels,group_counts,group_percentages)]\n",
    "    box_labels = np.asarray(box_labels).reshape(cf.shape[0],cf.shape[1])\n",
    "\n",
    "\n",
    "    # CODE TO GENERATE SUMMARY STATISTICS & TEXT FOR SUMMARY STATS\n",
    "    if sum_stats:\n",
    "        #Accuracy is sum of diagonal divided by total observations\n",
    "        accuracy  = np.trace(cf) / float(np.sum(cf))\n",
    "\n",
    "        #if it is a binary confusion matrix, show some more stats\n",
    "        if len(cf)==2:\n",
    "            #Metrics for Binary Confusion Matrices\n",
    "            precision = cf[1,1] / sum(cf[:,1])\n",
    "            recall    = cf[1,1] / sum(cf[1,:])\n",
    "            f1_score  = 2*precision*recall / (precision + recall)\n",
    "            stats_text = \"\\n\\nAccuracy={:0.3f}\\nPrecision={:0.3f}\\nRecall={:0.3f}\\nF1 Score={:0.3f}\".format(\n",
    "                accuracy,precision,recall,f1_score)\n",
    "        else:\n",
    "            stats_text = \"\\n\\nAccuracy={:0.3f}\".format(accuracy)\n",
    "    else:\n",
    "        stats_text = \"\"\n",
    "\n",
    "\n",
    "    # SET FIGURE PARAMETERS ACCORDING TO OTHER ARGUMENTS\n",
    "    if figsize==None:\n",
    "        #Get default figure size if not set\n",
    "        figsize = plt.rcParams.get('figure.figsize')\n",
    "\n",
    "    if xyticks==False:\n",
    "        #Do not show categories if xyticks is False\n",
    "        categories=False\n",
    "\n",
    "\n",
    "    # MAKE THE HEATMAP VISUALIZATION\n",
    "    plt.figure(figsize=figsize)\n",
    "    sns.heatmap(cf,annot=box_labels,fmt=\"\",cmap=cmap,cbar=cbar,xticklabels=categories,yticklabels=categories)\n",
    "\n",
    "    if xyplotlabels:\n",
    "        plt.ylabel('True label')\n",
    "#         plt.xlabel('Predicted label' + stats_text)\n",
    "        plt.xlabel('Predicted label' + '')\n",
    "    else:\n",
    "#         plt.xlabel(stats_text)\n",
    "        plt.xlabel('')\n",
    "    \n",
    "    if title:\n",
    "        plt.title(title)\n",
    "\n",
    "labels = ['TN','FN','FP','TP']\n",
    "categories = ['Zero', 'One']\n",
    "make_confusion_matrix(cf, group_names=labels, categories=categories, cmap='binary', title='My Two-class CF Matrix')"
   ]
  },
  {
   "cell_type": "code",
   "execution_count": null,
   "metadata": {
    "colab": {
     "base_uri": "https://localhost:8080/",
     "height": 241
    },
    "id": "TWow-r_U5dCm",
    "outputId": "5a60aa08-336b-4e0e-bf7f-be7d8680fb58"
   },
   "outputs": [
    {
     "name": "stdout",
     "output_type": "stream",
     "text": [
      "Nilai AUC : 0.6827727199834374\n"
     ]
    },
    {
     "data": {
      "image/png": "[encoded data removed]",
      "text/plain": [
       "<Figure size 216x216 with 2 Axes>"
      ]
     },
     "metadata": {
      "tags": []
     },
     "output_type": "display_data"
    }
   ],
   "source": [
    "fpr, tpr, thresholds = roc_curve(y_valid, y_predicted, pos_label=1)\n",
    "print(\"Nilai AUC :\", auc(fpr, tpr))\n",
    "cm = metrics.confusion_matrix(y_valid, y_predicted)\n",
    "plt.rcParams['figure.figsize'] = (3, 3)\n",
    "sns.heatmap(cm, annot = True, cmap = 'PuOr', fmt = '.8g')\n",
    "plt.show()"
   ]
  },
  {
   "cell_type": "code",
   "execution_count": null,
   "metadata": {
    "colab": {
     "base_uri": "https://localhost:8080/"
    },
    "id": "wHeg7gBS5dCn",
    "outputId": "5b0ccd82-9a4e-49f3-9599-85d00704017c"
   },
   "outputs": [
    {
     "name": "stdout",
     "output_type": "stream",
     "text": [
      "Best n_estimators: 644\n",
      "Best max_depth: 70\n",
      "              precision    recall  f1-score   support\n",
      "\n",
      "           0       0.95      0.97      0.96     15110\n",
      "           1       0.57      0.40      0.47      1333\n",
      "\n",
      "    accuracy                           0.93     16443\n",
      "   macro avg       0.76      0.69      0.72     16443\n",
      "weighted avg       0.92      0.93      0.92     16443\n",
      "\n"
     ]
    },
    {
     "data": {
      "text/plain": [
       "0.6869645356408592"
      ]
     },
     "execution_count": 99,
     "metadata": {
      "tags": []
     },
     "output_type": "execute_result"
    }
   ],
   "source": [
    "from sklearn.model_selection import RandomizedSearchCV\n",
    "from scipy.stats import uniform\n",
    "import numpy as np\n",
    "\n",
    "#List Hyperparameters yang akan diuji\n",
    "n_estimators = [int(x) for x in np.linspace(start = 200, stop = 1000, num = 10)] # Number of trees in random forest\n",
    "max_features = ['auto', 'sqrt'] # Number of features to consider at every split\n",
    "max_depth = [int(x) for x in np.linspace(10, 110, num = 11)] # Maximum number of levels in tree\n",
    "# max_depth.append(None)\n",
    "min_samples_split = [2, 5, 10] # Minimum number of samples required to split a node\n",
    "min_samples_leaf = [1, 2, 4] # Minimum number of samples required at each leaf node\n",
    "bootstrap = [True, False] # Method of selecting samples for training each tree\n",
    "\n",
    "#Menjadikan ke dalam bentuk dictionary\n",
    "hyperparameters = {'n_estimators': n_estimators,\n",
    "               'max_features': max_features,\n",
    "               'max_depth': max_depth,\n",
    "               'min_samples_split': min_samples_split,\n",
    "               'min_samples_leaf': min_samples_leaf,\n",
    "               'bootstrap': bootstrap}\n",
    "\n",
    "# Init random forest dengan randomsearch, cross validation = 5\n",
    "rf = RandomForestClassifier(random_state=42)\n",
    "clf = RandomizedSearchCV(rf, hyperparameters, cv=5, random_state=42)\n",
    "\n",
    "#Fitting Model\n",
    "best_model = clf.fit(x_resample,y_resample.values.ravel())\n",
    "\n",
    "#Nilai hyperparameters terbaik\n",
    "print('Best n_estimators:', best_model.best_estimator_.get_params()['n_estimators'])\n",
    "print('Best max_depth:', best_model.best_estimator_.get_params()['max_depth'])\n",
    "\n",
    "#Prediksi menggunakan model baru\n",
    "y_predicted = best_model.predict(x_valid)#Check performa dari model\n",
    "print(classification_report(y_valid, y_predicted))\n",
    "print('NIlai ROC:' roc_auc_score(y_valid, y_predicted))"
   ]
  },
  {
   "cell_type": "markdown",
   "metadata": {
    "id": "bnDPNVg_ykXI"
   },
   "source": [
    "## Hypertuning Percobaan Kedua"
   ]
  },
  {
   "cell_type": "code",
   "execution_count": null,
   "metadata": {
    "id": "WMvkfySDykXI",
    "outputId": "635da5b1-a1b3-413f-8c4d-734463937a8c"
   },
   "outputs": [
    {
     "name": "stdout",
     "output_type": "stream",
     "text": [
      "Best n_estimators: 555\n",
      "Best max_depth: 70\n",
      "              precision    recall  f1-score   support\n",
      "\n",
      "           0       0.95      0.98      0.96     15110\n",
      "           1       0.59      0.39      0.47      1333\n",
      "\n",
      "    accuracy                           0.93     16443\n",
      "   macro avg       0.77      0.68      0.72     16443\n",
      "weighted avg       0.92      0.93      0.92     16443\n",
      "\n"
     ]
    },
    {
     "data": {
      "text/plain": [
       "0.6833015748973643"
      ]
     },
     "execution_count": 77,
     "metadata": {
      "tags": []
     },
     "output_type": "execute_result"
    }
   ],
   "source": [
    "from sklearn.model_selection import RandomizedSearchCV\n",
    "from scipy.stats import uniform\n",
    "import numpy as np\n",
    "\n",
    "#List Hyperparameters yang akan diuji\n",
    "n_estimators = [int(x) for x in np.linspace(start = 200, stop = 1000, num = 10)] # Number of trees in random forest\n",
    "max_features = ['auto', 'sqrt'] # Number of features to consider at every split\n",
    "max_depth = [int(x) for x in np.linspace(10, 110, num = 11)] # Maximum number of levels in tree\n",
    "# max_depth.append(None)\n",
    "min_samples_split = [2, 5, 10] # Minimum number of samples required to split a node\n",
    "min_samples_leaf = [1, 2, 4] # Minimum number of samples required at each leaf node\n",
    "bootstrap = [True, False] # Method of selecting samples for training each tree\n",
    "\n",
    "#Menjadikan ke dalam bentuk dictionary\n",
    "hyperparameters = {'n_estimators': n_estimators,\n",
    "               'max_features': max_features,\n",
    "               'max_depth': max_depth,\n",
    "               'min_samples_split': min_samples_split,\n",
    "               'min_samples_leaf': min_samples_leaf,\n",
    "               'bootstrap': bootstrap}\n",
    "\n",
    "# Init random forest dengan randomsearch, cross validation = 5\n",
    "rf = RandomForestClassifier(random_state=42)\n",
    "clf = RandomizedSearchCV(rf, hyperparameters, cv=5, random_state=42)\n",
    "\n",
    "#Fitting Model\n",
    "best_model = clf.fit(x_resample,y_resample.values.ravel())\n",
    "\n",
    "#Nilai hyperparameters terbaik\n",
    "print('Best n_estimators:', best_model.best_estimator_.get_params()['n_estimators'])\n",
    "print('Best max_depth:', best_model.best_estimator_.get_params()['max_depth'])\n",
    "\n",
    "#Prediksi menggunakan model baru\n",
    "y_predicted = best_model.predict(x_valid)#Check performa dari model\n",
    "print(classification_report(y_valid, y_predicted))\n",
    "roc_auc_score(y_valid, y_predicted)"
   ]
  },
  {
   "cell_type": "code",
   "execution_count": null,
   "metadata": {
    "colab": {
     "base_uri": "https://localhost:8080/"
    },
    "id": "4BwsWVjVJ7c4",
    "outputId": "bdd129da-80f1-4e4f-9381-12b18b4bc893"
   },
   "outputs": [
    {
     "data": {
      "text/plain": [
       "0.6869645356408592"
      ]
     },
     "execution_count": 101,
     "metadata": {
      "tags": []
     },
     "output_type": "execute_result"
    }
   ],
   "source": [
    "roc_auc_score(y_valid, y_predicted, average='micro', sample_weight=None)"
   ]
  },
  {
   "cell_type": "code",
   "execution_count": null,
   "metadata": {
    "id": "hdgyQISYKNdR"
   },
   "outputs": [],
   "source": [
    "y_pred_test = best_model.predict(x_test)"
   ]
  },
  {
   "cell_type": "code",
   "execution_count": null,
   "metadata": {
    "colab": {
     "base_uri": "https://localhost:8080/",
     "height": 399
    },
    "id": "rc2hP1KfKaQO",
    "outputId": "ccef0ab0-519c-40be-c5be-cb26e6dde527"
   },
   "outputs": [
    {
     "data": {
      "text/html": [
       "<div>\n",
       "<style scoped>\n",
       "    .dataframe tbody tr th:only-of-type {\n",
       "        vertical-align: middle;\n",
       "    }\n",
       "\n",
       "    .dataframe tbody tr th {\n",
       "        vertical-align: top;\n",
       "    }\n",
       "\n",
       "    .dataframe thead th {\n",
       "        text-align: right;\n",
       "    }\n",
       "</style>\n",
       "<table border=\"1\" class=\"dataframe\">\n",
       "  <thead>\n",
       "    <tr style=\"text-align: right;\">\n",
       "      <th></th>\n",
       "      <th>department</th>\n",
       "      <th>Prediction</th>\n",
       "    </tr>\n",
       "  </thead>\n",
       "  <tbody>\n",
       "    <tr>\n",
       "      <th>0</th>\n",
       "      <td>4</td>\n",
       "      <td>0</td>\n",
       "    </tr>\n",
       "    <tr>\n",
       "      <th>1</th>\n",
       "      <td>7</td>\n",
       "      <td>0</td>\n",
       "    </tr>\n",
       "    <tr>\n",
       "      <th>2</th>\n",
       "      <td>1</td>\n",
       "      <td>0</td>\n",
       "    </tr>\n",
       "    <tr>\n",
       "      <th>3</th>\n",
       "      <td>3</td>\n",
       "      <td>0</td>\n",
       "    </tr>\n",
       "    <tr>\n",
       "      <th>4</th>\n",
       "      <td>6</td>\n",
       "      <td>0</td>\n",
       "    </tr>\n",
       "    <tr>\n",
       "      <th>...</th>\n",
       "      <td>...</td>\n",
       "      <td>...</td>\n",
       "    </tr>\n",
       "    <tr>\n",
       "      <th>23485</th>\n",
       "      <td>8</td>\n",
       "      <td>0</td>\n",
       "    </tr>\n",
       "    <tr>\n",
       "      <th>23486</th>\n",
       "      <td>4</td>\n",
       "      <td>0</td>\n",
       "    </tr>\n",
       "    <tr>\n",
       "      <th>23487</th>\n",
       "      <td>7</td>\n",
       "      <td>0</td>\n",
       "    </tr>\n",
       "    <tr>\n",
       "      <th>23488</th>\n",
       "      <td>3</td>\n",
       "      <td>0</td>\n",
       "    </tr>\n",
       "    <tr>\n",
       "      <th>23489</th>\n",
       "      <td>4</td>\n",
       "      <td>1</td>\n",
       "    </tr>\n",
       "  </tbody>\n",
       "</table>\n",
       "<p>23490 rows × 2 columns</p>\n",
       "</div>"
      ],
      "text/plain": [
       "       department  Prediction\n",
       "0               4           0\n",
       "1               7           0\n",
       "2               1           0\n",
       "3               3           0\n",
       "4               6           0\n",
       "...           ...         ...\n",
       "23485           8           0\n",
       "23486           4           0\n",
       "23487           7           0\n",
       "23488           3           0\n",
       "23489           4           1\n",
       "\n",
       "[23490 rows x 2 columns]"
      ]
     },
     "execution_count": 103,
     "metadata": {
      "tags": []
     },
     "output_type": "execute_result"
    }
   ],
   "source": [
    "hasil=pd.DataFrame(df3[['department']])\n",
    "hasil['Prediction']=pd.DataFrame(y_pred_test)\n",
    "hasil"
   ]
  },
  {
   "cell_type": "markdown",
   "metadata": {
    "id": "UZ_MV5zY5dCn"
   },
   "source": [
    "## Feature Importance Score: Random Forest"
   ]
  },
  {
   "cell_type": "code",
   "execution_count": null,
   "metadata": {
    "id": "PUXe9VwKKheT"
   },
   "outputs": [],
   "source": [
    "hasil.to_excel('/content/gdrive/My Drive/promosifix.xlsx',index=False)"
   ]
  },
  {
   "cell_type": "code",
   "execution_count": null,
   "metadata": {
    "id": "OhVwMrJR5dCn",
    "outputId": "664273a4-e910-4575-8370-5b65a3d0fca0"
   },
   "outputs": [
    {
     "data": {
      "text/plain": [
       "Text(0.5, 1.0, 'feature importance score')"
      ]
     },
     "execution_count": 71,
     "metadata": {
      "tags": []
     },
     "output_type": "execute_result"
    },
    {
     "data": {
      "image/png": "[encoded data removed]",
      "text/plain": [
       "<Figure size 1152x576 with 1 Axes>"
      ]
     },
     "metadata": {
      "tags": []
     },
     "output_type": "display_data"
    }
   ],
   "source": [
    "plt.figure(figsize=(16,8))\n",
    "feat_importances = pd.Series(rf.feature_importances_, index=x.columns)\n",
    "ax = feat_importances.nlargest(10).plot(kind='barh')\n",
    "ax.invert_yaxis()\n",
    "plt.xlabel('score')\n",
    "plt.ylabel('feature')\n",
    "plt.title('feature importance score')"
   ]
  },
  {
   "cell_type": "markdown",
   "metadata": {
    "id": "a4AtlGqJ5dCo"
   },
   "source": [
    "#### Dilihat dari Feature Importance diatas bahwa avg_training_score_norm merupakan feature yang paling penting (Mempengaruhi promosi) dalam model ini. Diikuti dengan previous_year_rating"
   ]
  },
  {
   "cell_type": "markdown",
   "metadata": {
    "id": "DBRnMWIf5dCo"
   },
   "source": [
    "## Decision Tree Model"
   ]
  },
  {
   "cell_type": "code",
   "execution_count": null,
   "metadata": {
    "colab": {
     "base_uri": "https://localhost:8080/",
     "height": 276
    },
    "id": "Jpd5gsTC5dCp",
    "outputId": "154f341a-d3c3-4d1a-bb2a-de27fc497c10"
   },
   "outputs": [
    {
     "name": "stdout",
     "output_type": "stream",
     "text": [
      "F1-score : 0.8958106842604497\n",
      "Accuracy : 0.8902876604026029\n",
      "Nilai AUC : 0.6892741550708658\n"
     ]
    },
    {
     "data": {
      "image/png": "[encoded data removed]",
      "text/plain": [
       "<Figure size 216x216 with 2 Axes>"
      ]
     },
     "metadata": {
      "tags": []
     },
     "output_type": "display_data"
    }
   ],
   "source": [
    "from sklearn.tree import DecisionTreeClassifier\n",
    "from sklearn.metrics import confusion_matrix, classification_report\n",
    "from sklearn.metrics import f1_score\n",
    "from sklearn.metrics import roc_curve, auc\n",
    "from sklearn.metrics import accuracy_score\n",
    "\n",
    "model = DecisionTreeClassifier(random_state=42)\n",
    "model.fit(x_resample, y_resample)\n",
    "y_pred = model.predict(x_valid)\n",
    "# f1 score\n",
    "score1=f1_score(y_valid, y_pred, average='weighted')\n",
    "print(\"F1-score :\", score1)\n",
    "print(\"Accuracy :\", accuracy_score(y_valid, y_pred))\n",
    "fpr, tpr, thresholds = roc_curve(y_valid, y_pred, pos_label=1)\n",
    "print(\"Nilai AUC :\", auc(fpr, tpr))\n",
    "cm = confusion_matrix(y_valid, y_pred)\n",
    "plt.rcParams['figure.figsize'] = (3, 3)\n",
    "sns.heatmap(cm, annot = True, cmap = 'PuOr', fmt = '.8g')\n",
    "plt.show()"
   ]
  },
  {
   "cell_type": "code",
   "execution_count": null,
   "metadata": {
    "colab": {
     "base_uri": "https://localhost:8080/"
    },
    "id": "rzMsbkzc5dCp",
    "outputId": "75bbea1f-9e84-4969-9ed8-879aac686566"
   },
   "outputs": [
    {
     "name": "stdout",
     "output_type": "stream",
     "text": [
      "              precision    recall  f1-score   support\n",
      "\n",
      "           0       0.95      0.93      0.94     15110\n",
      "           1       0.36      0.45      0.40      1333\n",
      "\n",
      "    accuracy                           0.89     16443\n",
      "   macro avg       0.65      0.69      0.67     16443\n",
      "weighted avg       0.90      0.89      0.90     16443\n",
      "\n"
     ]
    }
   ],
   "source": [
    "cr = classification_report(y_valid, y_pred)\n",
    "print(cr)"
   ]
  },
  {
   "cell_type": "code",
   "execution_count": null,
   "metadata": {
    "colab": {
     "base_uri": "https://localhost:8080/"
    },
    "id": "8kwqGsyi5dCq",
    "outputId": "22dae590-f264-4cc0-e267-14af776b2e31"
   },
   "outputs": [
    {
     "data": {
      "text/plain": [
       "0.6892741550708658"
      ]
     },
     "execution_count": 60,
     "metadata": {
      "tags": []
     },
     "output_type": "execute_result"
    }
   ],
   "source": [
    "roc_auc_score(y_valid, y_pred, average='micro', sample_weight=None)"
   ]
  },
  {
   "cell_type": "code",
   "execution_count": null,
   "metadata": {
    "id": "NYOVJDurykXP",
    "outputId": "ffce1d62-0dba-4de3-8b75-64a260d25451"
   },
   "outputs": [
    {
     "name": "stdout",
     "output_type": "stream",
     "text": [
      "              precision    recall  f1-score   support\n",
      "\n",
      "           0       0.95      0.94      0.94     15110\n",
      "           1       0.37      0.42      0.39      1333\n",
      "\n",
      "    accuracy                           0.89     16443\n",
      "   macro avg       0.66      0.68      0.67     16443\n",
      "weighted avg       0.90      0.89      0.90     16443\n",
      "\n"
     ]
    },
    {
     "data": {
      "text/plain": [
       "0.6770498216877183"
      ]
     },
     "execution_count": 61,
     "metadata": {
      "tags": []
     },
     "output_type": "execute_result"
    }
   ],
   "source": [
    "from sklearn.model_selection import RandomizedSearchCV\n",
    "from scipy.stats import uniform\n",
    "import numpy as np\n",
    "\n",
    "# list of hyperparameter\n",
    "max_depth = [int(x) for x in np.linspace(1, 110, num = 30)] # Maximum number of levels in tree\n",
    "min_samples_split = [2, 5, 10, 100] # Minimum number of samples required to split a node\n",
    "min_samples_leaf = [1, 2, 4, 10, 20, 50] # Minimum number of samples required at each leaf node\n",
    "max_features = ['auto', 'sqrt'] # Number of features to consider at every split\n",
    "\n",
    "#Menjadikan ke dalam bentuk dictionary\n",
    "hyperparameters = {\n",
    "               'max_depth': max_depth,\n",
    "               'min_samples_split': min_samples_split,\n",
    "               'min_samples_leaf': min_samples_leaf,\n",
    "               'max_features': max_features\n",
    "                }\n",
    "\n",
    "# Init Logres dengan Gridsearch, cross validation = 5\n",
    "dt2 = DecisionTreeClassifier(random_state=42)\n",
    "clf = RandomizedSearchCV(dt2, hyperparameters, cv=5, random_state=42)\n",
    "\n",
    "#Fitting Model\n",
    "best_model = clf.fit(x_resample, y_resample)\n",
    "\n",
    "#Prediksi menggunakan model baru\n",
    "y_predicted = best_model.predict(x_valid)#Check performa dari model\n",
    "print(classification_report(y_valid, y_predicted))\n",
    "roc_auc_score(y_valid, y_predicted)"
   ]
  },
  {
   "cell_type": "markdown",
   "metadata": {
    "id": "6QQAb_Ky5dCq"
   },
   "source": [
    "## K-Nearest Neighbor"
   ]
  },
  {
   "cell_type": "code",
   "execution_count": null,
   "metadata": {
    "colab": {
     "base_uri": "https://localhost:8080/"
    },
    "id": "GR4GyWx65dCr",
    "outputId": "f817a223-1ca2-4feb-c8bf-43fa0cdcf6b6"
   },
   "outputs": [
    {
     "name": "stderr",
     "output_type": "stream",
     "text": [
      "/usr/local/lib/python3.6/dist-packages/ipykernel_launcher.py:3: DataConversionWarning: A column-vector y was passed when a 1d array was expected. Please change the shape of y to (n_samples, ), for example using ravel().\n",
      "  This is separate from the ipykernel package so we can avoid doing imports until\n"
     ]
    },
    {
     "data": {
      "text/plain": [
       "KNeighborsClassifier(algorithm='auto', leaf_size=30, metric='minkowski',\n",
       "                     metric_params=None, n_jobs=None, n_neighbors=3, p=2,\n",
       "                     weights='distance')"
      ]
     },
     "execution_count": 108,
     "metadata": {
      "tags": []
     },
     "output_type": "execute_result"
    }
   ],
   "source": [
    "from sklearn.neighbors import KNeighborsClassifier\n",
    "knn = KNeighborsClassifier(n_neighbors=3, weights='distance')\n",
    "knn.fit(x_resample,y_resample)"
   ]
  },
  {
   "cell_type": "code",
   "execution_count": null,
   "metadata": {
    "id": "paPisBO75dCr"
   },
   "outputs": [],
   "source": [
    "y_predicted = knn.predict(x_valid)"
   ]
  },
  {
   "cell_type": "code",
   "execution_count": null,
   "metadata": {
    "colab": {
     "base_uri": "https://localhost:8080/"
    },
    "id": "ukY_Wdf75dCr",
    "outputId": "5b1bb05b-21b1-4c8b-e18b-49ff222566a0"
   },
   "outputs": [
    {
     "name": "stdout",
     "output_type": "stream",
     "text": [
      "\n",
      "confustion matrix\n",
      "[[13208  1902]\n",
      " [  616   717]]\n",
      "\n",
      "accuracy\n",
      "0.8468649273246974\n",
      "\n",
      "classification report\n",
      "              precision    recall  f1-score   support\n",
      "\n",
      "           0       0.96      0.87      0.91     15110\n",
      "           1       0.27      0.54      0.36      1333\n",
      "\n",
      "    accuracy                           0.85     16443\n",
      "   macro avg       0.61      0.71      0.64     16443\n",
      "weighted avg       0.90      0.85      0.87     16443\n",
      "\n"
     ]
    }
   ],
   "source": [
    "from sklearn.metrics import classification_report, confusion_matrix\n",
    "print('\\nconfustion matrix') # generate the confusion matrix\n",
    "print(confusion_matrix(y_valid, y_predicted))\n",
    "\n",
    "from sklearn.metrics import accuracy_score\n",
    "print('\\naccuracy')\n",
    "print(accuracy_score(y_valid, y_predicted))\n",
    "\n",
    "from sklearn.metrics import classification_report\n",
    "print('\\nclassification report')\n",
    "print(classification_report(y_valid, y_predicted)) # generate the precision, recall, f-1 score, num"
   ]
  },
  {
   "cell_type": "code",
   "execution_count": null,
   "metadata": {
    "colab": {
     "base_uri": "https://localhost:8080/"
    },
    "id": "tifDJxno5dCs",
    "outputId": "eafecd25-5df0-4975-929e-652c354b52cb"
   },
   "outputs": [
    {
     "data": {
      "text/plain": [
       "0.7060037842021724"
      ]
     },
     "execution_count": 111,
     "metadata": {
      "tags": []
     },
     "output_type": "execute_result"
    }
   ],
   "source": [
    "roc_auc_score(y_valid, y_predicted, average='micro', sample_weight=None)"
   ]
  },
  {
   "cell_type": "code",
   "execution_count": null,
   "metadata": {
    "colab": {
     "base_uri": "https://localhost:8080/",
     "height": 223
    },
    "id": "aJ4DQmrH5dCs",
    "outputId": "143b3b78-0874-4de2-98e3-d9314676d060"
   },
   "outputs": [
    {
     "data": {
      "image/png": "[encoded data removed]",
      "text/plain": [
       "<Figure size 216x216 with 2 Axes>"
      ]
     },
     "metadata": {
      "tags": []
     },
     "output_type": "display_data"
    }
   ],
   "source": [
    "cm = confusion_matrix(y_valid, y_predicted)\n",
    "plt.rcParams['figure.figsize'] = (3, 3)\n",
    "sns.heatmap(cm, annot = True, cmap = 'PuOr', fmt = '.8g')\n",
    "plt.show()"
   ]
  },
  {
   "cell_type": "markdown",
   "metadata": {
    "id": "mp_2zOq75dCs"
   },
   "source": [
    "## Logistic Regression"
   ]
  },
  {
   "cell_type": "code",
   "execution_count": null,
   "metadata": {
    "colab": {
     "base_uri": "https://localhost:8080/"
    },
    "id": "WxzfYGaJ5dCs",
    "outputId": "ce78688c-84ff-4d8a-e614-f57d8e1566b4"
   },
   "outputs": [
    {
     "name": "stderr",
     "output_type": "stream",
     "text": [
      "C:\\Users\\acer\\anaconda3\\lib\\site-packages\\sklearn\\linear_model\\_logistic.py:762: ConvergenceWarning: lbfgs failed to converge (status=1):\n",
      "STOP: TOTAL NO. of ITERATIONS REACHED LIMIT.\n",
      "\n",
      "Increase the number of iterations (max_iter) or scale the data as shown in:\n",
      "    https://scikit-learn.org/stable/modules/preprocessing.html\n",
      "Please also refer to the documentation for alternative solver options:\n",
      "    https://scikit-learn.org/stable/modules/linear_model.html#logistic-regression\n",
      "  n_iter_i = _check_optimize_result(\n"
     ]
    },
    {
     "data": {
      "text/plain": [
       "LogisticRegression(random_state=43)"
      ]
     },
     "execution_count": 33,
     "metadata": {
      "tags": []
     },
     "output_type": "execute_result"
    }
   ],
   "source": [
    "from sklearn.linear_model import LogisticRegression\n",
    "\n",
    "logreg = LogisticRegression(random_state=43)\n",
    "logreg.fit(x_resample,y_resample.values.ravel())"
   ]
  },
  {
   "cell_type": "code",
   "execution_count": null,
   "metadata": {
    "colab": {
     "base_uri": "https://localhost:8080/"
    },
    "id": "xm8amzC65dCt",
    "outputId": "b954b76e-0079-40ef-c956-488d18bcfc23"
   },
   "outputs": [
    {
     "data": {
      "text/plain": [
       "array([0, 0, 0, ..., 0, 1, 1], dtype=int64)"
      ]
     },
     "execution_count": 34,
     "metadata": {
      "tags": []
     },
     "output_type": "execute_result"
    }
   ],
   "source": [
    "y_predicted = logreg.predict(x_valid)\n",
    "y_predicted"
   ]
  },
  {
   "cell_type": "code",
   "execution_count": null,
   "metadata": {
    "colab": {
     "base_uri": "https://localhost:8080/"
    },
    "id": "9l1f8PBr5dCt",
    "outputId": "1ba2eaec-5556-4fad-cd25-26c21957496d"
   },
   "outputs": [
    {
     "name": "stdout",
     "output_type": "stream",
     "text": [
      "\n",
      "classification report\n",
      "              precision    recall  f1-score   support\n",
      "\n",
      "           0       0.97      0.73      0.84     15110\n",
      "           1       0.20      0.76      0.32      1333\n",
      "\n",
      "    accuracy                           0.74     16443\n",
      "   macro avg       0.59      0.75      0.58     16443\n",
      "weighted avg       0.91      0.74      0.79     16443\n",
      "\n"
     ]
    }
   ],
   "source": [
    "from sklearn.metrics import classification_report\n",
    "print('\\nclassification report')\n",
    "print(classification_report(y_valid, y_predicted))"
   ]
  },
  {
   "cell_type": "code",
   "execution_count": null,
   "metadata": {
    "colab": {
     "base_uri": "https://localhost:8080/"
    },
    "id": "-CuM0sH65dCt",
    "outputId": "70f0a089-083b-49b4-f027-dfb5ab206dd2"
   },
   "outputs": [
    {
     "data": {
      "text/plain": [
       "0.7450589401155716"
      ]
     },
     "execution_count": 36,
     "metadata": {
      "tags": []
     },
     "output_type": "execute_result"
    }
   ],
   "source": [
    "roc_auc_score(y_valid, y_predicted, average='micro', sample_weight=None)"
   ]
  },
  {
   "cell_type": "code",
   "execution_count": null,
   "metadata": {
    "colab": {
     "base_uri": "https://localhost:8080/"
    },
    "id": "XXTtX4QY5dCu",
    "outputId": "8b2eb27b-5ebb-47a3-d3c2-91bf4d270536"
   },
   "outputs": [
    {
     "data": {
      "text/plain": [
       "0.7450589401155716"
      ]
     },
     "execution_count": 37,
     "metadata": {
      "tags": []
     },
     "output_type": "execute_result"
    }
   ],
   "source": [
    "from sklearn.metrics import roc_curve, auc\n",
    "\n",
    "fpr, tpr, thresholds = roc_curve(y_valid, y_predicted, pos_label=1)\n",
    "auc(fpr, tpr)"
   ]
  },
  {
   "cell_type": "code",
   "execution_count": null,
   "metadata": {
    "colab": {
     "base_uri": "https://localhost:8080/",
     "height": 240
    },
    "id": "8tnGiYQw5dCu",
    "outputId": "61e4936b-3c3f-4ec6-e935-204c1785bccc"
   },
   "outputs": [
    {
     "data": {
      "image/png": "[encoded data removed]",
      "text/plain": [
       "<Figure size 216x216 with 2 Axes>"
      ]
     },
     "metadata": {
      "tags": []
     },
     "output_type": "display_data"
    }
   ],
   "source": [
    "cm = confusion_matrix(y_valid, y_predicted)\n",
    "plt.rcParams['figure.figsize'] = (3, 3)\n",
    "sns.heatmap(cm, annot = True, cmap = 'PuOr', fmt = '.8g')\n",
    "plt.xlabel('Predicted', fontsize = 12)\n",
    "plt.ylabel('Actual', fontsize = 12);\n",
    "plt.show()"
   ]
  },
  {
   "cell_type": "markdown",
   "metadata": {
    "id": "NVNHvaDP5dCu"
   },
   "source": [
    "### Hypertuning with GridSearch (For LOGREG)"
   ]
  },
  {
   "cell_type": "code",
   "execution_count": null,
   "metadata": {
    "id": "Le85Ght15dCu",
    "outputId": "6350abcf-afc4-41f0-9751-5157d07b42b3"
   },
   "outputs": [
    {
     "name": "stdout",
     "output_type": "stream",
     "text": [
      "Best Penalty: l2\n",
      "Best C: 0.002\n",
      "              precision    recall  f1-score   support\n",
      "\n",
      "           0       0.97      0.73      0.84     15110\n",
      "           1       0.20      0.76      0.32      1333\n",
      "\n",
      "    accuracy                           0.74     16443\n",
      "   macro avg       0.59      0.75      0.58     16443\n",
      "weighted avg       0.91      0.74      0.79     16443\n",
      "\n"
     ]
    },
    {
     "data": {
      "text/plain": [
       "0.7450589401155716"
      ]
     },
     "execution_count": 44,
     "metadata": {
      "tags": []
     },
     "output_type": "execute_result"
    }
   ],
   "source": [
    "from sklearn.model_selection import GridSearchCV\n",
    "\n",
    "#List Hyperparameters yang akan diuji\n",
    "penalty = ['l2']\n",
    "C = [0.0001, 0.001, 0.002] # Inverse of regularization strength; smaller values specify stronger regularization.\n",
    "\n",
    "#Menjadikan ke dalam bentuk dictionary\n",
    "hyperparameters = dict(penalty=penalty, C=C)\n",
    "\n",
    "# Init Logres dengan Gridsearch, cross validation = 5\n",
    "logreg = LogisticRegression(random_state=42, max_iter=5000)\n",
    "clf = GridSearchCV(logreg, hyperparameters, cv=5)\n",
    "\n",
    "#Fitting Model\n",
    "best_model = clf.fit(x_resample,y_resample.values.ravel())\n",
    "\n",
    "#Nilai hyperparameters terbaik\n",
    "print('Best Penalty:', best_model.best_estimator_.get_params()['penalty'])\n",
    "print('Best C:', best_model.best_estimator_.get_params()['C'])\n",
    "\n",
    "#Prediksi menggunakan model baru\n",
    "y_pred = best_model.predict(x_valid)#Check performa dari model\n",
    "print(classification_report(y_valid, y_predicted))\n",
    "roc_auc_score(y_valid, y_predicted)"
   ]
  },
  {
   "cell_type": "markdown",
   "metadata": {
    "id": "syNgN3l35dCv"
   },
   "source": [
    "## XGBoost"
   ]
  },
  {
   "cell_type": "code",
   "execution_count": null,
   "metadata": {
    "id": "1piL0x0C5dCv",
    "outputId": "5610b526-7d7b-49f2-e9fc-ae3b9d9a14ad"
   },
   "outputs": [
    {
     "name": "stdout",
     "output_type": "stream",
     "text": [
      "[20:24:41] WARNING: C:/Users/Administrator/workspace/xgboost-win64_release_1.3.0/src/learner.cc:1061: Starting in XGBoost 1.3.0, the default evaluation metric used with the objective 'binary:logistic' was changed from 'error' to 'logloss'. Explicitly set eval_metric if you'd like to restore the old behavior.\n",
      "\n",
      "classification report\n",
      "              precision    recall  f1-score   support\n",
      "\n",
      "           0       0.95      0.96      0.95     15110\n",
      "           1       0.47      0.43      0.45      1333\n",
      "\n",
      "    accuracy                           0.91     16443\n",
      "   macro avg       0.71      0.69      0.70     16443\n",
      "weighted avg       0.91      0.91      0.91     16443\n",
      "\n"
     ]
    }
   ],
   "source": [
    "from xgboost import XGBClassifier\n",
    "xg = XGBClassifier(random_state=32,learning_rate=1.5,  max_depth=13, n_estimators=30)\n",
    "xg.fit(x_resample,y_resample.values.ravel())\n",
    "\n",
    "#predict\n",
    "y_predicted = xg.predict(x_valid)\n",
    "\n",
    "#eval\n",
    "from sklearn.metrics import classification_report\n",
    "print('\\nclassification report')\n",
    "print(classification_report(y_valid, y_predicted)) # generate the precision, recall, f-1 score, num"
   ]
  },
  {
   "cell_type": "code",
   "execution_count": null,
   "metadata": {
    "id": "5YcvOM0B5dCv",
    "outputId": "5215178b-0c62-4bac-b98c-463e7495afbd"
   },
   "outputs": [
    {
     "name": "stdout",
     "output_type": "stream",
     "text": [
      "ROC AUC SCORE\n"
     ]
    },
    {
     "data": {
      "text/plain": [
       "0.692106870198688"
      ]
     },
     "execution_count": 48,
     "metadata": {
      "tags": []
     },
     "output_type": "execute_result"
    }
   ],
   "source": [
    "print('ROC AUC SCORE')\n",
    "roc_auc_score(y_valid, y_predicted, average='micro', sample_weight=None)"
   ]
  },
  {
   "cell_type": "code",
   "execution_count": null,
   "metadata": {
    "id": "iCHXYoY45dCv",
    "outputId": "bd3a7e36-935c-4f54-f7c4-905ca3bf2719"
   },
   "outputs": [
    {
     "data": {
      "image/png": "[encoded data removed]",
      "text/plain": [
       "<Figure size 216x216 with 2 Axes>"
      ]
     },
     "metadata": {
      "tags": []
     },
     "output_type": "display_data"
    }
   ],
   "source": [
    "cm = confusion_matrix(y_valid, y_predicted)\n",
    "plt.rcParams['figure.figsize'] = (3, 3)\n",
    "sns.heatmap(cm, annot = True, cmap = 'PuOr', fmt = '.8g')\n",
    "plt.xlabel('Predicted', fontsize = 12)\n",
    "plt.ylabel('Actual', fontsize = 12);\n",
    "plt.show()"
   ]
  },
  {
   "cell_type": "code",
   "execution_count": null,
   "metadata": {
    "id": "C5Foj8S05dCw",
    "outputId": "34b2477a-1714-44cc-c55d-e24d60a3316e"
   },
   "outputs": [
    {
     "name": "stderr",
     "output_type": "stream",
     "text": [
      "C:\\Users\\acer\\anaconda3\\lib\\site-packages\\sklearn\\model_selection\\_search.py:278: UserWarning: The total space of parameters 9 is smaller than n_iter=10. Running 9 iterations. For exhaustive searches, use GridSearchCV.\n",
      "  warnings.warn(\n"
     ]
    },
    {
     "name": "stdout",
     "output_type": "stream",
     "text": [
      "              precision    recall  f1-score   support\n",
      "\n",
      "           0       0.95      0.97      0.96     15110\n",
      "           1       0.51      0.41      0.45      1333\n",
      "\n",
      "    accuracy                           0.92     16443\n",
      "   macro avg       0.73      0.69      0.71     16443\n",
      "weighted avg       0.91      0.92      0.92     16443\n",
      "\n"
     ]
    },
    {
     "data": {
      "text/plain": [
       "0.6867334967428157"
      ]
     },
     "execution_count": 53,
     "metadata": {
      "tags": []
     },
     "output_type": "execute_result"
    }
   ],
   "source": [
    "from sklearn.model_selection import RandomizedSearchCV, GridSearchCV\n",
    "from scipy.stats import uniform\n",
    "import numpy as np\n",
    "\n",
    "#Menjadikan ke dalam bentuk dictionary\n",
    "hyperparameters = {\n",
    "                    'eta': [0.1, 0.2, 0.3],\n",
    "                    'gamma': [0, 0.1, 0.2]\n",
    "                   \n",
    "                  }\n",
    "\n",
    "# Init Logres dengan Gridsearch, cross validation = 5\n",
    "xg = XGBClassifier(random_state=42,learning_rate=1.2,  max_depth=8, disable_default_eval_metric=True, use_label_encoder=False)\n",
    "clf = RandomizedSearchCV(xg, hyperparameters, cv=5, scoring='f1_macro')\n",
    "\n",
    "#Fitting Model\n",
    "best_model = clf.fit(x_resample, y_resample)\n",
    "\n",
    "#Nilai hyperparameters terbaik\n",
    "# print('Best n_estimators:', best_model.best_estimator_.get_params()['n_estimators'])\n",
    "# print('Best learning_rate:', best_model.best_estimator_.get_params()['learning_rate'])\n",
    "\n",
    "#Prediksi menggunakan model baru\n",
    "# y_predicted = best_model.predict(X_train)\n",
    "y_predicted = best_model.predict(x_valid)#Check performa dari model\n",
    "print(classification_report(y_valid, y_predicted))\n",
    "roc_auc_score(y_valid, y_predicted)"
   ]
  },
  {
   "cell_type": "code",
   "execution_count": null,
   "metadata": {
    "id": "yIS67m4zykXW",
    "outputId": "84a1893f-74d8-4e87-abc7-57f3e3a37cbe"
   },
   "outputs": [
    {
     "name": "stdout",
     "output_type": "stream",
     "text": [
      "              precision    recall  f1-score   support\n",
      "\n",
      "           0       0.95      0.97      0.96     15110\n",
      "           1       0.51      0.41      0.45      1333\n",
      "\n",
      "    accuracy                           0.92     16443\n",
      "   macro avg       0.73      0.69      0.71     16443\n",
      "weighted avg       0.91      0.92      0.92     16443\n",
      "\n"
     ]
    },
    {
     "data": {
      "text/plain": [
       "0.6867334967428157"
      ]
     },
     "execution_count": 54,
     "metadata": {
      "tags": []
     },
     "output_type": "execute_result"
    }
   ],
   "source": [
    "from sklearn.model_selection import RandomizedSearchCV, GridSearchCV\n",
    "from scipy.stats import uniform\n",
    "import numpy as np\n",
    "\n",
    "#Menjadikan ke dalam bentuk dictionary\n",
    "hyperparameters = {\n",
    "                    'eta': [0.1, 0.2, 0.3],\n",
    "                    'gamma': [0, 0.1, 0.2]\n",
    "                   \n",
    "                  }\n",
    "\n",
    "# Init Logres dengan Gridsearch, cross validation = 5\n",
    "xg = XGBClassifier(random_state=42,learning_rate=1.2,  max_depth=8, disable_default_eval_metric=True, use_label_encoder=False)\n",
    "clf = GridSearchCV(xg, hyperparameters, cv=5, scoring='f1_macro')\n",
    "\n",
    "#Fitting Model\n",
    "best_model = clf.fit(x_resample, y_resample)\n",
    "\n",
    "#Nilai hyperparameters terbaik\n",
    "# print('Best n_estimators:', best_model.best_estimator_.get_params()['n_estimators'])\n",
    "# print('Best learning_rate:', best_model.best_estimator_.get_params()['learning_rate'])\n",
    "\n",
    "#Prediksi menggunakan model baru\n",
    "# y_predicted = best_model.predict(X_train)\n",
    "y_predicted = best_model.predict(x_valid)#Check performa dari model\n",
    "print(classification_report(y_valid, y_predicted))\n",
    "roc_auc_score(y_valid, y_predicted)"
   ]
  },
  {
   "cell_type": "markdown",
   "metadata": {
    "id": "sCJyv_RA5dCw"
   },
   "source": [
    "## Boosting: AdaBoost"
   ]
  },
  {
   "cell_type": "code",
   "execution_count": null,
   "metadata": {
    "colab": {
     "base_uri": "https://localhost:8080/"
    },
    "id": "g8nDtMnf5dCw",
    "outputId": "516fc60f-5948-4f01-e8ac-aa198232ca6a"
   },
   "outputs": [
    {
     "name": "stdout",
     "output_type": "stream",
     "text": [
      "\n",
      "classification report\n",
      "              precision    recall  f1-score   support\n",
      "\n",
      "           0       0.95      0.90      0.92     15110\n",
      "           1       0.30      0.49      0.37      1333\n",
      "\n",
      "    accuracy                           0.87     16443\n",
      "   macro avg       0.63      0.69      0.65     16443\n",
      "weighted avg       0.90      0.87      0.88     16443\n",
      "\n"
     ]
    }
   ],
   "source": [
    "from sklearn.ensemble import AdaBoostClassifier\n",
    "\n",
    "ab = AdaBoostClassifier(random_state=0, n_estimators=100, learning_rate=1.5)\n",
    "ab.fit(x_resample,y_resample.values.ravel())\n",
    "\n",
    "#predict\n",
    "y_predicted = ab.predict(x_valid)\n",
    "\n",
    "#eval\n",
    "from sklearn.metrics import classification_report\n",
    "print('\\nclassification report')\n",
    "print(classification_report(y_valid, y_predicted)) # generate the precision, recall, f-1 score, num"
   ]
  },
  {
   "cell_type": "code",
   "execution_count": null,
   "metadata": {
    "colab": {
     "base_uri": "https://localhost:8080/"
    },
    "id": "YvtJ1WLc5dCw",
    "outputId": "c536c318-1153-4aff-a078-e2f8852cfd99"
   },
   "outputs": [
    {
     "name": "stdout",
     "output_type": "stream",
     "text": [
      "ROC-AUC SCORE:\n"
     ]
    },
    {
     "data": {
      "text/plain": [
       "0.6938000549111468"
      ]
     },
     "execution_count": 56,
     "metadata": {
      "tags": []
     },
     "output_type": "execute_result"
    }
   ],
   "source": [
    "print('ROC-AUC SCORE:')\n",
    "roc_auc_score(y_valid, y_predicted, average='micro', sample_weight=None)"
   ]
  },
  {
   "cell_type": "markdown",
   "metadata": {
    "id": "TLBKgi7A5dCw"
   },
   "source": [
    "### Tuning with HyperParameter: AdaBoost"
   ]
  },
  {
   "cell_type": "code",
   "execution_count": null,
   "metadata": {
    "id": "KF3ugmhn5dCx",
    "outputId": "c4ca8ce3-1cc7-4113-811f-f01791a7327a"
   },
   "outputs": [
    {
     "name": "stdout",
     "output_type": "stream",
     "text": [
      "Best n_estimators: 1000\n",
      "Best learning_rate: 1.3000000000000003\n",
      "              precision    recall  f1-score   support\n",
      "\n",
      "           0       0.94      0.97      0.96     15110\n",
      "           1       0.51      0.34      0.41      1333\n",
      "\n",
      "    accuracy                           0.92     16443\n",
      "   macro avg       0.73      0.66      0.68     16443\n",
      "weighted avg       0.91      0.92      0.91     16443\n",
      "\n"
     ]
    },
    {
     "data": {
      "text/plain": [
       "0.6557546732811596"
      ]
     },
     "execution_count": 57,
     "metadata": {
      "tags": []
     },
     "output_type": "execute_result"
    }
   ],
   "source": [
    "from sklearn.model_selection import RandomizedSearchCV, GridSearchCV\n",
    "from scipy.stats import uniform\n",
    "import numpy as np\n",
    "\n",
    "#Menjadikan ke dalam bentuk dictionary\n",
    "hyperparameters = {\n",
    "                   'n_estimators': [10, 50, 100, 500, 1000],\n",
    "                   'learning_rate':np.arange(0.1, 2.1, 0.1)\n",
    "                  }\n",
    "\n",
    "# Init Logres dengan Gridsearch, cross validation = 5\n",
    "ab = AdaBoostClassifier(random_state=42)\n",
    "clf = RandomizedSearchCV(ab, hyperparameters, cv=5, scoring='f1_macro')\n",
    "\n",
    "#Fitting Model\n",
    "best_model = clf.fit(x_resample,y_resample.values.ravel())\n",
    "\n",
    "#Nilai hyperparameters terbaik\n",
    "print('Best n_estimators:', best_model.best_estimator_.get_params()['n_estimators'])\n",
    "print('Best learning_rate:', best_model.best_estimator_.get_params()['learning_rate'])\n",
    "\n",
    "#Prediksi menggunakan model baru\n",
    "# y_predicted = best_model.predict(X_train)\n",
    "y_predicted = best_model.predict(x_valid)#Check performa dari model\n",
    "print(classification_report(y_valid, y_predicted))\n",
    "roc_auc_score(y_valid, y_predicted)"
   ]
  },
  {
   "cell_type": "markdown",
   "metadata": {
    "id": "7ik9myQ25dCx"
   },
   "source": [
    "## Bonus: Insight Mengenai Training"
   ]
  },
  {
   "cell_type": "code",
   "execution_count": null,
   "metadata": {
    "colab": {
     "base_uri": "https://localhost:8080/",
     "height": 340
    },
    "id": "df1OjahI5dCx",
    "outputId": "e9a8e894-9962-4f94-e2ef-653dd60d71a2"
   },
   "outputs": [
    {
     "data": {
      "text/html": [
       "<div>\n",
       "<style scoped>\n",
       "    .dataframe tbody tr th:only-of-type {\n",
       "        vertical-align: middle;\n",
       "    }\n",
       "\n",
       "    .dataframe tbody tr th {\n",
       "        vertical-align: top;\n",
       "    }\n",
       "\n",
       "    .dataframe thead th {\n",
       "        text-align: right;\n",
       "    }\n",
       "</style>\n",
       "<table border=\"1\" class=\"dataframe\">\n",
       "  <thead>\n",
       "    <tr style=\"text-align: right;\">\n",
       "      <th></th>\n",
       "      <th>no_of_trainings_norm</th>\n",
       "      <th>previous_year_rating_norm</th>\n",
       "    </tr>\n",
       "  </thead>\n",
       "  <tbody>\n",
       "    <tr>\n",
       "      <th>0</th>\n",
       "      <td>0.000000</td>\n",
       "      <td>0.583780</td>\n",
       "    </tr>\n",
       "    <tr>\n",
       "      <th>1</th>\n",
       "      <td>0.111111</td>\n",
       "      <td>0.554651</td>\n",
       "    </tr>\n",
       "    <tr>\n",
       "      <th>2</th>\n",
       "      <td>0.222222</td>\n",
       "      <td>0.522100</td>\n",
       "    </tr>\n",
       "    <tr>\n",
       "      <th>3</th>\n",
       "      <td>0.333333</td>\n",
       "      <td>0.479167</td>\n",
       "    </tr>\n",
       "    <tr>\n",
       "      <th>4</th>\n",
       "      <td>0.444444</td>\n",
       "      <td>0.435547</td>\n",
       "    </tr>\n",
       "    <tr>\n",
       "      <th>5</th>\n",
       "      <td>0.555556</td>\n",
       "      <td>0.426136</td>\n",
       "    </tr>\n",
       "    <tr>\n",
       "      <th>6</th>\n",
       "      <td>0.666667</td>\n",
       "      <td>0.541667</td>\n",
       "    </tr>\n",
       "    <tr>\n",
       "      <th>7</th>\n",
       "      <td>0.777778</td>\n",
       "      <td>0.450000</td>\n",
       "    </tr>\n",
       "    <tr>\n",
       "      <th>8</th>\n",
       "      <td>0.888889</td>\n",
       "      <td>0.450000</td>\n",
       "    </tr>\n",
       "    <tr>\n",
       "      <th>9</th>\n",
       "      <td>1.000000</td>\n",
       "      <td>0.400000</td>\n",
       "    </tr>\n",
       "  </tbody>\n",
       "</table>\n",
       "</div>"
      ],
      "text/plain": [
       "   no_of_trainings_norm  previous_year_rating_norm\n",
       "0              0.000000                   0.583780\n",
       "1              0.111111                   0.554651\n",
       "2              0.222222                   0.522100\n",
       "3              0.333333                   0.479167\n",
       "4              0.444444                   0.435547\n",
       "5              0.555556                   0.426136\n",
       "6              0.666667                   0.541667\n",
       "7              0.777778                   0.450000\n",
       "8              0.888889                   0.450000\n",
       "9              1.000000                   0.400000"
      ]
     },
     "execution_count": 64,
     "metadata": {
      "tags": []
     },
     "output_type": "execute_result"
    }
   ],
   "source": [
    "df1.groupby(['no_of_trainings_norm'])['previous_year_rating_norm'].mean().reset_index()"
   ]
  },
  {
   "cell_type": "markdown",
   "metadata": {
    "id": "CUxcyQ2C5dCy"
   },
   "source": [
    "#### Bila dilihat dalam table diatas, jumlah training / latihan karyawan tidak mempunyai pengaruh positif kedalam rating karyawan tersebut.\n",
    "##### Harus dipahami bahwa jumlah karyawan yang mempunyai training lebih banyak dari 1 (lebih dari 1) sangat timpang dengan karyawan yang hanya mempunyai 1 latihan, akan tetapi nilai rating dengan jumlah training 1 tetap paling tinggi dibandingkan karyawan yang mempunyai jumlah latihan lebih banyak\n",
    "\n",
    "#### = Training yang dilakukan tidak efektif"
   ]
  },
  {
   "cell_type": "code",
   "execution_count": null,
   "metadata": {},
   "outputs": [],
   "source": []
  }
 ],
 "metadata": {
  "colab": {
   "collapsed_sections": [
    "a4AtlGqJ5dCo",
    "CUxcyQ2C5dCy"
   ],
   "name": "MoboData_FP(new).ipynb",
   "provenance": []
  },
  "kernelspec": {
   "display_name": "Python 3",
   "language": "python",
   "name": "python3"
  },
  "language_info": {
   "codemirror_mode": {
    "name": "ipython",
    "version": 3
   },
   "file_extension": ".py",
   "mimetype": "text/x-python",
   "name": "python",
   "nbconvert_exporter": "python",
   "pygments_lexer": "ipython3",
   "version": "3.8.3"
  }
 },
 "nbformat": 4,
 "nbformat_minor": 1
}
